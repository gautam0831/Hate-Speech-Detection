{
  "nbformat": 4,
  "nbformat_minor": 0,
  "metadata": {
    "colab": {
      "name": "SVM_221Project.ipynb",
      "provenance": [],
      "collapsed_sections": []
    },
    "kernelspec": {
      "name": "python3",
      "display_name": "Python 3"
    },
    "language_info": {
      "name": "python"
    }
  },
  "cells": [
    {
      "cell_type": "code",
      "metadata": {
        "id": "vrPCFQJDVDhR"
      },
      "source": [
        "import matplotlib.pyplot as plt\n",
        "import numpy as np\n",
        "from sklearn import datasets\n",
        "from sklearn import svm\n",
        "import csv\n",
        "import pandas as pd"
      ],
      "execution_count": 1,
      "outputs": []
    },
    {
      "cell_type": "code",
      "metadata": {
        "id": "BIp7XYtJdFv6",
        "colab": {
          "base_uri": "https://localhost:8080/",
          "height": 204
        },
        "outputId": "067fc45a-229f-4125-fe4b-48ec9cfb9da6"
      },
      "source": [
        "#Load data\n",
        "data = pd.read_csv('labeled_data.csv', encoding = \"ISO-8859-1\", low_memory=False)\n",
        "data.head(5)"
      ],
      "execution_count": 2,
      "outputs": [
        {
          "output_type": "execute_result",
          "data": {
            "text/html": [
              "<div>\n",
              "<style scoped>\n",
              "    .dataframe tbody tr th:only-of-type {\n",
              "        vertical-align: middle;\n",
              "    }\n",
              "\n",
              "    .dataframe tbody tr th {\n",
              "        vertical-align: top;\n",
              "    }\n",
              "\n",
              "    .dataframe thead th {\n",
              "        text-align: right;\n",
              "    }\n",
              "</style>\n",
              "<table border=\"1\" class=\"dataframe\">\n",
              "  <thead>\n",
              "    <tr style=\"text-align: right;\">\n",
              "      <th></th>\n",
              "      <th>Unnamed: 0</th>\n",
              "      <th>count</th>\n",
              "      <th>hate_speech</th>\n",
              "      <th>offensive_language</th>\n",
              "      <th>neither</th>\n",
              "      <th>class</th>\n",
              "      <th>tweet</th>\n",
              "    </tr>\n",
              "  </thead>\n",
              "  <tbody>\n",
              "    <tr>\n",
              "      <th>0</th>\n",
              "      <td>0</td>\n",
              "      <td>3</td>\n",
              "      <td>0</td>\n",
              "      <td>0</td>\n",
              "      <td>3</td>\n",
              "      <td>2</td>\n",
              "      <td>!!! RT @mayasolovely: As a woman you shouldn't...</td>\n",
              "    </tr>\n",
              "    <tr>\n",
              "      <th>1</th>\n",
              "      <td>1</td>\n",
              "      <td>3</td>\n",
              "      <td>0</td>\n",
              "      <td>3</td>\n",
              "      <td>0</td>\n",
              "      <td>1</td>\n",
              "      <td>!!!!! RT @mleew17: boy dats cold...tyga dwn ba...</td>\n",
              "    </tr>\n",
              "    <tr>\n",
              "      <th>2</th>\n",
              "      <td>2</td>\n",
              "      <td>3</td>\n",
              "      <td>0</td>\n",
              "      <td>3</td>\n",
              "      <td>0</td>\n",
              "      <td>1</td>\n",
              "      <td>!!!!!!! RT @UrKindOfBrand Dawg!!!! RT @80sbaby...</td>\n",
              "    </tr>\n",
              "    <tr>\n",
              "      <th>3</th>\n",
              "      <td>3</td>\n",
              "      <td>3</td>\n",
              "      <td>0</td>\n",
              "      <td>2</td>\n",
              "      <td>1</td>\n",
              "      <td>1</td>\n",
              "      <td>!!!!!!!!! RT @C_G_Anderson: @viva_based she lo...</td>\n",
              "    </tr>\n",
              "    <tr>\n",
              "      <th>4</th>\n",
              "      <td>4</td>\n",
              "      <td>6</td>\n",
              "      <td>0</td>\n",
              "      <td>6</td>\n",
              "      <td>0</td>\n",
              "      <td>1</td>\n",
              "      <td>!!!!!!!!!!!!! RT @ShenikaRoberts: The shit you...</td>\n",
              "    </tr>\n",
              "  </tbody>\n",
              "</table>\n",
              "</div>"
            ],
            "text/plain": [
              "   Unnamed: 0  count  ...  class                                              tweet\n",
              "0           0      3  ...      2  !!! RT @mayasolovely: As a woman you shouldn't...\n",
              "1           1      3  ...      1  !!!!! RT @mleew17: boy dats cold...tyga dwn ba...\n",
              "2           2      3  ...      1  !!!!!!! RT @UrKindOfBrand Dawg!!!! RT @80sbaby...\n",
              "3           3      3  ...      1  !!!!!!!!! RT @C_G_Anderson: @viva_based she lo...\n",
              "4           4      6  ...      1  !!!!!!!!!!!!! RT @ShenikaRoberts: The shit you...\n",
              "\n",
              "[5 rows x 7 columns]"
            ]
          },
          "metadata": {
            "tags": []
          },
          "execution_count": 2
        }
      ]
    },
    {
      "cell_type": "code",
      "metadata": {
        "id": "xX9tEyY4VNeZ"
      },
      "source": [
        "\n",
        "\n",
        "#Make 90% of data for training\n",
        "#Original dataset said 0=Hate speech, 1=Offensive but not hate speech, 2=neither \n",
        "#We need binary labels so first we made +1 only if it is not hate speech (>0) but this made majority of the dataset +1 and very few -1. \n",
        "#So, changed labels so only classified as non-hate if orig label (>1)\n",
        "training = open(\"training_data.txt\", \"w+\")\n",
        "for i in range(int(0.9*data.shape[0])):\n",
        "  tweet = data[\"tweet\"][i].replace(\"\\n\", \" \")\n",
        "  label = data[\"class\"][i]\n",
        "  if label > 1:\n",
        "    label = \"+1\"\n",
        "  else:\n",
        "    label = \"-1\"\n",
        "  \n",
        "  training.write(label + \" \" + tweet + \"\\n\")\n",
        "\n",
        "training.close()\n",
        "\n",
        "validation = open(\"validation_data.txt\", \"w+\")\n",
        "for i in range(1239):\n",
        "  tweet = data[\"tweet\"][22304+i].replace(\"\\n\", \" \")\n",
        "\n",
        "  label = data[\"class\"][22304+i]\n",
        "  if label > 1:\n",
        "    label = \"+1\"\n",
        "  else:\n",
        "    label = \"-1\"\n",
        "  \n",
        "  validation.write(label + \" \" + tweet + \"\\n\")\n",
        "\n",
        "validation.close()\n",
        "\n",
        "testing = open(\"testing_data.txt\", \"w+\")\n",
        "for i in range(1240):\n",
        "  tweet = data[\"tweet\"][23543+i].replace(\"\\n\", \" \")\n",
        "\n",
        "  label = data[\"class\"][23543+i]\n",
        "  if label > 1:\n",
        "    label = \"+1\"\n",
        "  else:\n",
        "    label = \"-1\"\n",
        "  \n",
        "  testing.write(label + \" \" + tweet + \"\\n\")\n",
        "\n",
        "testing.close()\n",
        "\n"
      ],
      "execution_count": 3,
      "outputs": []
    },
    {
      "cell_type": "code",
      "metadata": {
        "id": "wl94ejaCdKg7",
        "colab": {
          "base_uri": "https://localhost:8080/"
        },
        "outputId": "b8d6902a-afdb-4133-83cf-c5d373cf6d13"
      },
      "source": [
        "training_tweets = []\n",
        "training_labels = []\n",
        "train = open(\"training_data.txt\", \"r\")\n",
        "train_lines = train.readlines()\n",
        "train_lines = [line.strip() for line in train_lines]\n",
        "for line in train_lines:\n",
        "  tweet = line[3:]\n",
        "  training_tweets.append(tweet)\n",
        "  training_labels.append(int(line[:2]))\n",
        "\n",
        "training_tweets = np.array(training_tweets)\n",
        "training_labels = np.array(training_labels)\n",
        "\n",
        "print(training_tweets[:5])\n",
        "print(training_labels[:5])"
      ],
      "execution_count": 4,
      "outputs": [
        {
          "output_type": "stream",
          "text": [
            "[\"!!! RT @mayasolovely: As a woman you shouldn't complain about cleaning up your house. &amp; as a man you should always take the trash out...\"\n",
            " '!!!!! RT @mleew17: boy dats cold...tyga dwn bad for cuffin dat hoe in the 1st place!!'\n",
            " '!!!!!!! RT @UrKindOfBrand Dawg!!!! RT @80sbaby4life: You ever fuck a bitch and she start to cry? You be confused as shit'\n",
            " '!!!!!!!!! RT @C_G_Anderson: @viva_based she look like a tranny'\n",
            " '!!!!!!!!!!!!! RT @ShenikaRoberts: The shit you hear about me might be true or it might be faker than the bitch who told it to ya &#57361;']\n",
            "[ 1 -1 -1 -1 -1]\n"
          ],
          "name": "stdout"
        }
      ]
    },
    {
      "cell_type": "code",
      "metadata": {
        "id": "S-5vJGBQfP6C",
        "colab": {
          "base_uri": "https://localhost:8080/"
        },
        "outputId": "588364ba-b172-4fdf-d5ed-e6d85f8a5f3e"
      },
      "source": [
        "test_tweets = []\n",
        "test_labels = []\n",
        "test = open(\"testing_data.txt\", \"r\")\n",
        "test_lines = test.readlines()\n",
        "test_lines = [line.strip() for line in test_lines]\n",
        "for line in test_lines:\n",
        "  tweet = line[3:]\n",
        "  test_tweets.append(tweet)\n",
        "  test_labels.append(int(line[:2]))\n",
        "\n",
        "test_tweets = np.array(test_tweets)\n",
        "test_labels = np.array(test_labels)\n",
        "\n",
        "print(test_tweets[:5])\n",
        "print(test_labels[:5])"
      ],
      "execution_count": 5,
      "outputs": [
        {
          "output_type": "stream",
          "text": [
            "[\"ain't no bitch got shit on me\" \"ain't nuttin ta cut that bitch off\"\n",
            " \"ain't the bitch Mimi still wit Gay ass Nikko????\"\n",
            " \"ain't trusting no bitch or no nigga... hoe or no sucka\"\n",
            " 'aint nuthin retarded bout Gucci but this gold rolex']\n",
            "[-1 -1 -1 -1 -1]\n"
          ],
          "name": "stdout"
        }
      ]
    },
    {
      "cell_type": "code",
      "metadata": {
        "id": "3N8cHLyiVjdv",
        "colab": {
          "base_uri": "https://localhost:8080/"
        },
        "outputId": "8942685c-268d-4271-9826-f603021bf583"
      },
      "source": [
        "from sklearn.feature_extraction.text import TfidfVectorizer\n",
        "# Create feature vectors\n",
        "vectorizer = TfidfVectorizer(min_df = 10,\n",
        "                             max_df = 0.8,\n",
        "                             sublinear_tf = True,\n",
        "                             use_idf = True)\n",
        "train_vectors = vectorizer.fit_transform(training_tweets)\n",
        "print(vectorizer.vocabulary_)\n",
        "test_vectors = vectorizer.transform(test_tweets)"
      ],
      "execution_count": 6,
      "outputs": [
        {
          "output_type": "stream",
          "text": [
            "{'rt': 1809, 'as': 240, 'woman': 2399, 'you': 2450, 'shouldn': 1905, 'complain': 552, 'about': 146, 'up': 2275, 'your': 2452, 'house': 1105, 'amp': 207, 'man': 1387, 'should': 1903, 'always': 199, 'take': 2079, 'the': 2134, 'trash': 2216, 'out': 1600, 'boy': 382, 'dats': 631, 'cold': 538, 'tyga': 2259, 'bad': 276, 'for': 883, 'dat': 628, 'hoe': 1077, 'in': 1147, '1st': 103, 'place': 1659, 'dawg': 634, '80sbaby4life': 124, 'ever': 768, 'fuck': 911, 'bitch': 341, 'and': 209, 'she': 1887, 'start': 2021, 'to': 2190, 'cry': 599, 'be': 298, 'confused': 555, 'shit': 1892, 'look': 1343, 'like': 1305, 'tranny': 2214, 'hear': 1044, 'me': 1405, 'might': 1429, 'true': 2228, 'or': 1589, 'it': 1170, 'than': 2128, 'who': 2370, 'told': 2194, 'ya': 2431, 'just': 1209, 'claim': 517, 'so': 1964, 'faithful': 803, 'down': 705, 'somebody': 1974, 'but': 433, 'still': 2039, 'fucking': 915, 'with': 2393, 'hoes': 1078, '128514': 53, 'can': 453, 'not': 1548, 'sit': 1927, 'hate': 1029, 'on': 1580, 'another': 215, 'got': 978, 'too': 2200, 'much': 1478, 'going': 968, '8220': 129, 'cause': 476, 'tired': 2185, 'of': 1565, 'big': 331, 'bitches': 342, 'coming': 549, 'us': 2280, 'skinny': 1931, 'girls': 953, '8221': 130, 'get': 941, 'back': 274, 'thats': 2133, 'that': 2132, 'fighting': 839, 'is': 1164, 'everyone': 772, 'lol': 1339, 'walked': 2309, 'into': 1157, 'conversation': 561, 'this': 2157, 'smh': 1954, 'gang': 933, 'its': 1171, 'land': 1261, 'smoke': 1957, 'are': 232, 'yea': 2437, 'go': 960, 'ig': 1132, 'only': 1584, 'thing': 2149, 'off': 1566, 'nigga': 1527, 'miss': 1443, 'plz': 1675, 'whatever': 2358, 'do': 686, 'love': 1358, 'cut': 611, 'everyday': 771, 'black': 345, 'bottle': 375, 'broke': 402, 'cant': 458, 'tell': 2113, 'nothing': 1550, 'see': 1854, 'these': 2145, 'wont': 2403, 'change': 483, 'no': 1539, 'dont': 699, 'even': 767, 'suck': 2057, 'dick': 664, 'bout': 378, 'tip': 2184, 'my': 1485, 'http': 1110, 'co': 534, 'her': 1054, 'pussy': 1723, 'lips': 1314, 'heaven': 1049, '128524': 59, 'what': 2356, 'hitting': 1074, 'met': 1418, 'dr': 706, 'gave': 936, 'need': 1505, 'spend': 2002, 'money': 1459, 'how': 1108, 'want': 2315, 'business': 430, 'old': 1576, 'new': 1517, 'say': 1831, 'im': 1140, 'would': 2420, 'excited': 780, 'if': 1131, 'aint': 180, 'murder': 1479, 'game': 931, 'shut': 1913, 're': 1755, 'toes': 2192, 'ain': 179, 'done': 698, 'bitter': 344, 'wrap': 2423, 'angry': 212, 'bird': 336, 'theres': 2144, 'jus': 1208, 'meet': 1411, 'son': 1980, 'now': 1551, 'he': 1040, 'mane': 1388, 'ass': 249, 'shots': 1902, 'crying': 600, 'over': 1606, 'clown': 531, 'said': 1816, 'we': 2335, 'momma': 1456, 'cats': 474, 'inside': 1153, 'most': 1468, 'favorite': 818, 'nice': 1523, 'make': 1380, 'real': 1759, 'body': 360, 'south': 1994, 'chick': 495, 'em': 753, 'thick': 2148, 'future': 926, 'voice': 2298, 'post': 1688, 'picture': 1648, '200': 107, 'likes': 1307, 'drug': 720, '128517': 54, 'quick': 1732, 'piece': 1650, 'call': 443, 'drive': 716, 'by': 438, 'running': 1813, 'round': 1807, 'here': 1055, 'some': 1973, 'brand': 391, 'fucked': 912, 'worst': 2418, 'they': 2147, 'll': 1325, 'send': 1865, 'them': 2137, 'guys': 1005, 'niggas': 1530, 'talk': 2084, 'trust': 2230, 'all': 190, 'yall': 2433, 'cuffing': 602, 'never': 1516, 'have': 1035, 'da': 616, 'pregnant': 1697, 'thank': 2130, 'god': 964, '128591': 90, 'young': 2451, 'music': 1480, 'probably': 1705, 'twitter': 2256, 'gay': 937, 'couldn': 574, 'wait': 2305, 'act': 154, 'tonight': 2198, 'ima': 1142, 'steal': 2029, 'his': 1069, 'cat': 471, 'gone': 971, 'took': 2201, 'movie': 1472, 'wanna': 2314, 'model': 1452, 'wouldn': 2421, '8217': 128, 'mind': 1437, 'school': 1842, 'didn': 667, 'deal': 640, 'teachers': 2107, 'retweet': 1788, 'fag': 797, 'females': 834, 'think': 2151, 'dating': 630, 'cute': 612, 'does': 688, 'doing': 694, 'stuff': 2052, 'him': 1065, 'hot': 1102, 'scally': 1837, 'lad': 1255, 'asked': 245, 'other': 1597, 'kanye': 1213, 'yes': 2444, 'bring': 399, 'ur': 2279, 'side': 1916, 'where': 2361, 'know': 1248, 'gf': 945, 'friends': 905, 'at': 254, '128553': 77, 'swear': 2071, 'soles': 1971, 'eat': 743, 'oreo': 1593, 'one': 1582, 'maybe': 1403, 'better': 327, 'red': 1766, 'niggah': 1528, 'could': 573, 'please': 1673, 'use': 2281, 'complete': 554, 'why': 2373, 'emoji': 754, 'doe': 687, 'looked': 1344, 'scream': 1845, 'lmao': 1327, 'gt': 996, '128584': 87, 'sexy': 1878, 'then': 2139, 'shower': 1910, 'lt': 1366, 'every': 769, 'eagles': 737, 'pic': 1645, 'posted': 1689, 'because': 309, 'racist': 1738, 'yo': 2447, 'faggots': 799, 'ball': 283, 'life': 1301, 'baby': 273, 'monkey': 1460, 'soooo': 1987, 'damn': 622, 'kill': 1227, 'was': 2321, 'way': 2331, 'bs': 413, 'must': 1483, '30': 114, 'chance': 481, 'ppl': 1694, 'ghetto': 946, 'hood': 1093, 'kid': 1223, 'had': 1008, 'facts': 796, 'tattoos': 2096, '128175': 46, 'wanting': 2317, 'wow': 2422, 'lost': 1353, 'those': 2160, 'yeah': 2438, 'ok': 1573, 'rather': 1752, 'works': 2412, 'queer': 1728, 'faggot': 798, 'read': 1756, 'tweets': 2249, 'after': 171, 'wasn': 2323, 'funny': 924, 'fr': 893, 'been': 313, 'white_thunduh': 2368, 'hes': 1057, 'beaner': 299, 'mexican': 1420, 'happy': 1024, 'birthday': 339, 'nigs': 1536, 'thanks': 2131, 'chlldhoodruiner': 506, 'when': 2360, 'teacher': 2106, 'tells': 2116, 'homework': 1086, 'https': 1111, 'eating': 745, 'hell': 1050, 'john': 1197, 'paul': 1629, 'lil': 1308, 'ugly': 2265, 'bald': 282, 'headed': 1042, 'stop': 2042, 'making': 1384, 'weave': 2341, 'win': 2382, 'nig': 1526, 'causewereguys': 477, 'sucks': 2060, 'more': 1465, 'year': 2439, 'come': 546, 'food': 879, 'car': 462, 'retard': 1785, 'doesn': 689, 'show': 1908, 'hella': 1051, 'friend': 902, 'anymore': 220, 'chill': 502, 'brought': 407, 'cowboys': 583, 'clicquotsuave': 526, 'foh': 872, 'coley_cee': 540, 'lil_aerii': 1309, 'girl': 950, 'let': 1290, 'couple': 577, 'page': 1611, 'won': 2401, 'jail': 1177, 'don': 697, 'trick': 2220, 'again': 172, 'shake': 1880, 'an': 208, 'excuse': 781, 'full': 920, 'seconds': 1852, 'miley': 1433, 'okay': 1574, 'bc': 296, 'having': 1038, 'loyal': 1365, 'female': 833, 'idc': 1125, '128049': 17, '128533': 67, 'check': 493, 'our': 1599, 'ny': 1560, 'fans': 810, 'happen': 1021, 'ran': 1744, 'threw': 2167, 'nudes': 1553, '128554': 78, '128527': 62, '128056': 18, 'holding': 1080, 'anyway': 223, 'wrong': 2425, 'nobody': 1541, 'knows': 1251, 'type': 2261, 'dm': 683, 'which': 2363, 'top': 2202, 'baseball': 291, 'season': 1849, 'yankees': 2435, 'started': 2022, 'little': 1320, 'stupid': 2053, 'really': 1763, 'dead': 639, 'serious': 1871, 'tho': 2158, 'early': 738, 'night': 1535, 'wise': 2390, 'drugs': 721, 'sound': 1992, 'day': 635, 'pit': 1657, 'fairy': 802, '1stname_bravo': 105, 'aw': 267, 'tweet': 2246, 'long': 1341, 'lakers': 1259, 'from': 907, 'hahaha': 1010, 'anything': 222, 'kiss': 1240, 'funnypicsdepot': 925, 'play': 1665, 'soccer': 1965, 'cheat': 490, 'wear': 2337, 'coloured': 544, 'fat': 814, 'same': 1822, '17': 97, 'missed': 1444, 'calls': 449, '128544': 73, '128545': 74, 'das': 627, 'finna': 852, 'gotta': 980, 'anybody': 219, 'ask': 244, 'cousin': 580, 'jersey': 1185, 'thinkin': 2152, 'moving': 1474, 'thinking': 2153, 'meat': 1409, 'slap': 1933, '128564': 83, '128075': 24, 'bruh': 412, 'wit': 2392, 'talking': 2087, '9995': 140, 'nah': 1488, 'sweet': 2072, 'bags': 280, 'sex': 1876, 'mom': 1454, 'right': 1795, 'came': 451, 'eyes': 789, 'open': 1586, 'watch': 2327, 'lmfao': 1331, 'shoulda': 1904, '128563': 82, '128586': 88, 'bday': 297, 'roll': 1803, 'used': 2282, 'own': 1608, 'wcw': 2334, 'duh': 728, 'throw': 2170, 'glad': 957, 'getting': 944, 'outta': 1604, 'bunch': 425, 'dumb': 729, 'mad': 1374, 'kids': 1225, 'fuckin': 914, 'isn': 1167, 'smart': 1949, 'wife': 2375, 'cuz': 614, 'care': 465, 'cheating': 492, 'each': 736, 'force': 884, 'relationship': 1773, 'first': 854, 'being': 319, 'single': 1923, 'theonemiss_luu': 2140, 'white': 2367, 'power': 1693, 'lets': 1291, 'drunk': 722, 'spit': 2004, 'bro': 400, 'dudes': 727, 'around': 239, 'world': 2413, 'sucked': 2058, 'party': 1623, 'set': 1874, 'oomf': 1585, 'has': 1026, 'lot': 1354, 'saving': 1829, 'captain': 461, 'wants': 2318, 'there': 2142, 'nose': 1547, 'sox': 1995, 'legs': 1287, 'wish': 2391, 'brother': 405, '128530': 65, 'bet': 325, 'dressed': 713, 'halloween': 1015, 'basic': 293, 'gtfo': 997, 'joebudden': 1196, 'scared': 1839, 'choke': 509, 'during': 732, 'says': 1834, 'guy': 1004, 'hits': 1072, 'women': 2400, 'bed': 311, 'ha': 1007, 'well': 2350, 'oh': 1572, 'am': 200, 'molly': 1453, 'ho': 1076, 'refer': 1770, 'beating': 306, 'finally': 845, 'move': 1471, 'line': 1313, 'tf': 2126, 'record': 1765, 'vine': 2295, 'hahahaha': 1011, 'haha': 1009, 'naw': 1500, 'tape': 2092, 'cover': 581, 'mixtape': 1447, 'waiting': 2306, 'ol': 1575, 'dirty': 676, 'foot': 881, 'yellow': 2442, 'amazing': 201, '128079': 28, 'time': 2181, 'actin': 155, 'stay': 2028, 'alive': 189, 'nation': 1497, 'special': 2000, 'smfh': 1953, 'wonder': 2402, 'keep': 1216, 'soft': 1968, 'many': 1391, 'times': 2183, 'stfu': 2037, 'bye': 439, 'dry': 723, 'blame': 348, '128557': 80, 'gucci': 998, 'month': 1461, 'text': 2122, 'lebronvuitton': 1282, 'without': 2394, 'daddy': 618, 'issues': 1169, 'finding': 847, 'easy': 742, 'cum': 605, 'fact': 795, 'charlie': 486, 'sheen': 1888, 'major': 1378, 'respect': 1782, 'bae': 278, 'twerking': 2251, 'cook': 562, 'wtf': 2426, 'fight': 838, 'good': 973, 'ma': 1373, 'along': 194, 'booty': 368, 'everywhere': 775, '128525': 60, '128064': 19, 'update': 2276, 'report': 1779, 'will': 2380, '10': 2, 'weeks': 2346, 'bum': 423, 'field': 837, 'def': 647, 'best': 323, 'dude': 726, 'tv': 2244, 'lmfaoooo': 1334, 'people': 1635, 'niggers': 1533, 'pissed': 1656, 'past': 1626, 'lick': 1297, 'while': 2364, 'slept': 1938, 'fam': 806, 'feel': 825, '128588': 89, 'america': 203, 'means': 1407, 'vagina': 2286, 'nasty': 1496, 'actually': 160, 'vibe': 2293, 'tried': 2222, 'dis': 677, 'saying': 1833, 'mean': 1406, 'af': 167, 'tight': 2178, 'shirts': 1891, 'everybody': 770, 'birds': 337, 'may': 1402, 'beautiful': 308, 'purple': 1719, 'playin': 1669, 'track': 2210, 'sum': 2061, 'seen': 1858, 'mine': 1438, '128529': 64, 'kobe': 1252, 'forget': 887, 'meant': 1408, 'least': 1277, 'nigger': 1532, 'asking': 246, 'asian': 243, '_whiteponyjr_': 144, 'coward': 582, 'cripple': 595, 'lmaoo': 1328, 'home': 1083, 'everything': 773, 'lowkey': 1364, 'quiet': 1733, 'sleep': 1936, 'prayingforhead': 1696, 'weird': 2348, 'mentions': 1414, '128080': 29, '128581': 86, 'weak': 2336, 'advice': 166, 'quote': 1735, 'animal': 213, 'pop': 1682, 'their': 2136, 'double': 702, '128526': 61, 'twerk': 2250, '8252': 132, '65039': 121, 'takin': 2082, 'government': 982, 'find': 846, 'tree': 2219, 'shoes': 1895, 'jordan': 1202, 'alone': 193, 'austin': 263, 'teach': 2105, 'ones': 1583, 'both': 374, 'cyrus': 615, 'naked': 1490, 'lmaooo': 1329, 'tony': 2199, 'fuk': 919, 'holy': 1082, 'chocolate': 507, 'floor': 864, 'laughing': 1268, 'using': 2284, 'followers': 877, 'bitching': 343, 'clearly': 525, 'annoying': 214, 'slick': 1939, 'catching': 473, 'worry': 2416, 'worried': 2415, 'insecure': 1152, 'handle': 1017, 'share': 1884, 'brothers': 406, 'sharing': 1885, 'hungry': 1117, 'problems': 1707, '128128': 34, 'dese': 657, 'sportscenter': 2007, 'nfl': 1520, 'senior': 1866, 'brown': 408, 'head': 1041, 'coach': 535, 'steve': 2033, 'team': 2108, '187': 100, 'guess': 999, 'also': 198, 'zero': 2461, '128069': 20, 'impress': 1146, 'simple': 1919, 'control': 560, 'idk': 1129, 'blah': 346, 'cuh': 603, 'crazy': 588, 'gonna': 972, 'fine': 848, 'dam': 621, '24': 111, 'boys': 385, 'drink': 714, 'fags': 800, 'later': 1266, 'between': 328, 'longer': 1342, 'through': 2169, 'front': 908, 'ipad': 1160, 'work': 2409, 'friday': 900, 'yesterday': 2445, 'walks': 2311, 'test': 2120, 'forever': 886, 'voiceofdstreetz': 2299, 'taste': 2094, 'bobby': 358, 'live': 1321, 'before': 316, 'ride': 1793, 'bars': 290, '15': 94, 'sad': 1814, 'bus': 429, 'video': 2294, 'jihadi': 1190, 'together': 2193, 'ike': 1137, 'avi': 266, '128540': 71, 'herself': 1056, 'size': 1929, 'exactly': 778, '128299': 51, '128298': 50, 'kim': 1232, 'near': 1503, 'protect': 1711, 'dope': 701, 'girlfriend': 951, 'aye': 270, 'taught': 2097, 'rally': 1743, 'bottom': 376, 'person': 1638, 'knowing': 1249, 'till': 2180, 'shane_a1': 1882, 'fucc': 910, 'rich': 1791, 'homie': 1087, 'nicca': 1521, 'last': 1263, 'sunday': 2063, 'punch': 1716, 'face': 791, 'strong': 2050, 'fresh': 897, 'something': 1977, 'stank': 2019, 'things': 2150, 'slapped': 1934, 'week': 2344, 'nd': 1502, 'dark': 625, 'looking': 1346, 'left': 1284, '128129': 35, '128536': 69, 'butt': 434, 'straight': 2046, 'boss': 373, 'needs': 1508, 'gettin': 943, 'weekend': 2345, '128168': 43, 'betta': 326, 'streets': 2048, 'hold': 1079, 'locked': 1337, 'college': 541, 'different': 672, 'story': 2045, 'ratchet': 1750, 'watched': 2328, '40': 117, 'did': 666, 'were': 2353, 'retarded': 1786, 'name': 1491, 'mr': 1475, 'thug': 2174, 'phone': 1643, 'married': 1393, 'makes': 1381, 'haven': 1036, 'called': 444, 'soul': 1990, 'bored': 370, 'supposed': 2067, 'sometimes': 1978, 'mans': 1390, '128686': 91, 'doubt': 703, 'teeth': 2112, 'gold': 969, 'thots': 2163, 'across': 153, 'known': 1250, 'lie': 1298, 'try': 2232, 'put': 1724, 'tryin': 2233, 'score': 1843, '128293': 49, 'mouth': 1470, 'tht': 2173, 'huh': 1113, '128139': 38, 'redneck': 1767, 'wack': 2304, 'knew': 1244, 'uh': 2266, 'pay': 1630, 'dollar': 695, 'blue': 356, 'sitting': 1928, 'window': 2384, 'tries': 2223, 'fly': 867, 'gon': 970, 'entire': 761, 'media': 1410, 'mock': 1450, 'such': 2056, 'shy': 1914, 'hi': 1059, 'cracker': 585, 'already': 196, 'karma': 1215, 'tea': 2102, 'gym': 1006, 'al': 183, 'turn': 2239, 'idntwearcondoms': 1130, 'argue': 235, 'weed': 2343, 'public': 1713, 'cops': 569, 'run': 1812, 'rappers': 1749, 'loud': 1356, 'turns': 2242, 'tomorrow': 2196, 'barackobama': 288, 'lied': 1299, 'um': 2267, 'cheese': 494, 'giving': 956, 'ah': 177, 'reason': 1764, 'photo': 1644, 'sole': 1970, '128166': 42, 'baddest': 277, 'made': 1375, '128074': 23, '128555': 79, 'spook': 2005, 'break': 394, 'neck': 1504, 'sorry': 1988, 'pressed': 1700, 'oreos': 1594, 'lildurk_': 1310, 'screen': 1847, 'shot': 1901, 'shoot': 1896, 'frfr': 899, 'passed': 1625, 'two': 2257, 'enjoy': 758, 'colored': 543, 'contacts': 558, 'period': 1637, 'die': 669, 'high': 1062, 'neva': 1515, 'sister': 1925, 'perfect': 1636, 'feeling': 827, 'pretty': 1702, 'easily': 740, 'behind': 317, 'nip': 1537, 'history': 1070, 'drake': 709, 'cool': 565, 'sure': 2068, 'news': 1518, 'retards': 1787, 'fox': 892, 'etc': 766, '128076': 25, 'rn': 1799, 'brownies': 410, 'kind': 1234, 'give': 954, 'someone': 1975, 'hurt': 1121, 'yah': 2432, 'thang': 2129, 'slope': 1942, 'fit': 856, 'action': 157, 'next': 1519, 'promise': 1709, 'fucker': 913, 'saw': 1830, 'walk': 2308, 'listen': 1316, 'childish': 500, 'bestfriend': 324, 'remember': 1775, 'wop': 2405, 'omg': 1579, 'raw': 1753, 'french': 896, 'nothin': 1549, 'free': 895, 'write': 2424, 'panties': 1616, 'catch': 472, 'whole': 2371, 'water': 2330, 'yours': 2454, 'chase': 488, '128176': 47, '128111': 33, 'stand': 2017, 'kno': 1245, 'job': 1193, 'become': 310, 'wodaeeex3': 2397, 'feelings': 828, 'dem': 651, '9749': 136, 'albino': 184, 'ordered': 1592, 'chinese': 504, 'ate': 255, 'lunch': 1369, 'soon': 1985, 'gets': 942, 'political': 1679, 'keeps': 1217, 'devil': 662, 'away': 268, 'children': 501, 'street': 2047, 'sounds': 1993, 'word': 2406, 'else': 752, 'wee': 2342, 'cunt': 606, 'ex': 777, 've': 2288, 'few': 836, 'brownie': 409, 'feelin': 826, 'looks': 1347, 'ape': 227, 'yanks': 2436, 'dad': 617, 'snapchat': 1961, '9996': 141, 'believe': 320, 'fall': 805, 'songs': 1982, 'alright': 197, 'dropped': 719, 'song': 1981, 'cares': 467, 'foreign': 885, 'clean': 523, 'working': 2411, 'dragon': 708, 'balls': 284, 'flappy': 859, 'via': 2291, 'bear': 303, 'wigger': 2378, 'unless': 2272, 'heart': 1047, 'shows': 1912, 'lucky': 1368, 'uncle': 2268, 'account': 152, 'imma': 1143, 'great': 990, 'moms': 1457, 'hey': 1058, 'found': 890, 'draft': 707, 'folks': 874, 'war': 2319, 'hilarious': 1063, 'negro': 1510, 'dog': 691, 'hillbilly': 1064, 'jesus': 1186, 'beat': 305, 'chug': 512, 'alot': 195, 'smack': 1947, 'tongue': 2197, 'queen': 1727, 'riding': 1794, 'calling': 446, 'lady': 1257, 'bang': 286, 'heard': 1045, 'candy': 455, 'hope': 1097, 'ladies': 1256, 'names': 1493, 'number': 1554, 'eatin': 744, 'either': 749, 'dreams': 711, 'sold': 1969, 'sell': 1863, 'older': 1577, 'men': 1412, 'mature': 1401, 'fool': 880, 'prolly': 1708, 'leave': 1278, 'hand': 1016, 'tastes': 2095, 'myself': 1486, 'hair': 1012, 'dress': 712, 'cop': 568, '11': 11, 'went': 2352, 'flock': 863, 'woke': 2398, 'sir': 1924, 'hard': 1025, 'slit': 1941, 'throat': 2168, 'funky': 922, 'honkey': 1091, 'shout': 1906, 'personality': 1639, 'goddamn': 965, 'rose': 1805, 'yelling': 2441, 'middle': 1428, 'piss': 1655, 'teams': 2109, 'main': 1377, 'apple': 230, 'sick': 1915, 'yet': 2446, 'pick': 1646, 'hide': 1061, 'shorty': 1900, 'wizkhalifa': 2396, 'hands': 1018, 'room': 1804, 'starts': 2024, 'tie': 2177, 'takes': 2081, 'accept': 150, 'larry': 1262, 'words': 2407, 'blind': 350, 'cheated': 491, 'late': 1264, 'tag': 2078, 'dykes': 735, 'dyke': 734, 'follow': 875, 'mama': 1386, '8230': 131, 'davis': 633, 'nips': 1538, 'babies': 272, 'cake': 441, '233': 110, 'wat': 2326, 'van': 2287, 'leg': 1285, 'ik': 1136, 'until': 2274, 'plays': 1672, 'grandma': 989, 'porch': 1685, 'broken': 403, 'bra': 386, 'admit': 164, 'since': 1920, 'thought': 2165, 'yr': 2457, 'super': 2064, 'dying': 733, 'race': 1736, 'club': 532, 'timeline': 2182, '128528': 63, '9994': 139, 'fan': 809, 'justin': 1211, 'comment': 550, 'million': 1435, 'chicken': 496, 'selling': 1864, 'fast': 813, 'cars': 468, 'tupac': 2238, 'smile': 1955, 'aka': 182, 'rednecks': 1768, 'summer': 2062, 'wigga': 2377, 'florida': 865, 'pussies': 1722, 'slow': 1944, 'classy': 522, 'football': 882, 'player': 1667, 'acts': 158, 'fucks': 916, 'dirt': 675, 'finger': 849, 'chunky': 513, 'selfish': 1862, 'color': 542, 'callin': 445, '127926': 15, 'petty': 1642, 'broads': 401, 'giant': 947, 'lookin': 1345, 'low': 1363, 'regular': 1772, 'luv': 1370, 'ole': 1578, 'titties': 2187, 'pass': 1624, 'squad': 2010, 'marriage': 1392, 'seeing': 1855, 'walking': 2310, 'chris': 510, 'green': 991, 'evil': 776, 'question': 1730, 'days': 636, 'cookies': 564, 'tryna': 2236, 'porn': 1686, 'shirt': 1890, 'feet': 830, 'smell': 1952, 'sentence': 1869, 'ended': 756, 'gunna': 1002, 'texts': 2125, 'pull': 1714, 'hit': 1071, 'lights': 1303, 'morning': 1466, 'today': 2191, 'help': 1053, 'living': 1324, 'total': 2204, 'kick': 1221, 'lives': 1323, 'redskins': 1769, 'jokes': 1201, 'pictures': 1649, 'flat': 860, 'slut': 1945, 'cash': 470, 'far': 811, 'playing': 1670, 'close': 528, 'freak': 894, 'save': 1827, 'watching': 2329, 'settle': 1875, 'hater': 1030, 'youtube': 2456, 'hick': 1060, 'very': 2290, 'cus': 610, 'id': 1124, 'end': 755, 'dip': 674, 'rip': 1798, 'apart': 226, 'bright': 398, 'crib': 593, 'skin': 1930, 'bodies': 359, 'lord': 1349, 'poor': 1681, 'whitey': 2369, 'bros': 404, 'kardashian': 1214, 'shaped': 1883, 'mini': 1439, 'twat': 2245, 'pipe': 1654, '160': 96, 'moment': 1455, 'facebook': 792, 'any': 218, 'fa': 790, 'tl': 2189, 'fun': 921, 'wilson': 2381, 'feels': 829, 'rain': 1740, 'enough': 759, 'teabagger': 2103, 'state': 2025, 'tcot': 2101, 'teaparty': 2110, 'wet': 2355, 'obama': 1564, 'syria': 2074, 'aren': 234, 'breaking': 396, 'ap': 225, 'governor': 983, 'baker': 281, 'bar': 287, 'under': 2269, 'gop': 977, 'pure': 1718, 'amos': 206, 'except': 779, 'court': 579, 'truth': 2231, 'air': 181, 'father': 815, 'aunt': 262, 'mary': 1396, 'bag': 279, 'california': 442, 'quit': 1734, 'muslim': 1481, 'kissing': 1241, 'crack': 584, 'non': 1542, 'allowed': 191, 'penis': 1634, 'boobs': 365, 'losing': 1352, 'self': 1859, 'fake': 804, 'card': 463, 'expect': 783, 'child': 499, 'questions': 1731, 'fire': 853, 'hairy': 1013, 'scary': 1840, 'sense': 1867, 'outside': 1603, 'city': 516, 'ebola': 747, 'flu': 866, 'teabaggers': 2104, 'earth': 739, 'attention': 258, 'worse': 2417, 'jig': 1189, 'royals': 1808, 'mo': 1449, 'wanted': 2316, 'tha': 2127, 'mess': 1415, 'opening': 1587, 'upon': 2277, 'instead': 1155, 'others': 1598, 'exist': 782, 'iu': 1173, 'hoosiers': 1095, 'jk': 1192, 'band': 285, 'played': 1666, 'sports': 2006, 'grade': 985, 'didnt': 668, 'loves': 1360, 'liberals': 1296, 'iraq': 1162, 'gov': 981, 'isis': 1165, '300': 115, 'jihadis': 1191, 'killed': 1228, '128073': 22, 'niccas': 1522, 'tryn': 2235, 'calm': 450, 'average': 265, 'ill': 1138, 'makin': 1383, 'spanish': 1997, 'fob': 870, 'once': 1581, 'radio': 1739, 'twice': 2252, 'texas': 2121, 'whipped': 2366, 'putting': 1726, 'ring': 1797, 'taking': 2083, 'tickets': 2176, 'road': 1800, 'continue': 559, 'iubb': 1174, 'finished': 851, 'nba': 1501, 'indiana': 1151, 'though': 2164, 'feed': 824, '128534': 68, 'usually': 2285, 'mocks': 1451, 'talkin': 2086, 'smashed': 1951, 'homies': 1088, 'sucking': 2059, 'focus': 871, 'actual': 159, 'natural': 1499, 'knocked': 1247, 'teen': 2111, 'years': 2440, 'ready': 1758, 'lose': 1350, 'shoutout': 1907, 'salute': 1820, 'niggahs': 1529, 'telling': 2115, 'west': 2354, 'orange': 1590, 'tbt': 2100, 'wall': 2312, '100': 3, 'deez': 646, 'half': 1014, 'dump': 731, '128520': 55, 'creepy': 591, 'spic': 2003, 'border': 369, 'americans': 205, 'butter': 435, 'four': 891, 'points': 1677, 'scale': 1836, 'jeter': 1187, 'series': 1870, 'price': 1703, 'yankee': 2434, 'killing': 1231, 'douche': 704, 'joe': 1195, 'complaining': 553, 'showed': 1909, 'zone': 2462, 'sale': 1818, 'rest': 1784, 'michael': 1425, 'needed': 1507, 'mlb': 1448, 'winning': 2387, 'three': 2166, 'games': 932, 'building': 419, 'possible': 1687, 'vote': 2301, 'proud': 1712, 'la': 1254, 'weather': 2340, 'horrible': 1100, 'local': 1335, 'washington': 2322, '80': 123, 'leaving': 1280, 'hello': 1052, 'yourself': 2455, 'cancer': 454, 'cuts': 613, 'democrat': 652, 'talks': 2088, 'fair': 801, 'mt': 1477, 'peace': 1632, 'anyone': 221, 'famous': 808, 'family': 807, 'hanging': 1020, 'totally': 2205, 'ca': 440, 'morningjoe': 1467, 'niggaz': 1531, 'android': 210, 'iphone': 1161, 'xxx': 2430, 'part': 1622, 'babe': 271, 'caught': 475, 'tits': 2186, 'asshole': 251, 'japanese': 1180, 'oriental': 1595, 'deep': 645, 'wild': 2379, 'whore': 2372, 'loose': 1348, 'cream': 589, '21': 109, 'homemade': 1085, 'cock': 536, 'small': 1948, '8211': 125, 'xbox': 2428, 'graduation': 986, '50': 118, 'president': 1698, 'standing': 2018, 'gook': 976, 'laws': 1270, 'pro': 1704, 'slavery': 1935, 'drinking': 715, 'loving': 1362, 'vegas': 2289, 'everytime': 774, 'kitchen': 1242, 'sing': 1921, 'rock': 1802, 'date': 629, 'bud': 417, 'plus': 1674, 'trip': 2224, 'visit': 2297, 'st': 2012, '60': 119, 'killer': 1229, 'smith': 1956, 'salad': 1817, 'vianawf': 2292, 'crow': 597, 'seat': 1850, '128184': 48, 'worm': 2414, 'lotta': 1355, 'fck': 821, 'shooting': 1897, '128072': 21, 'coon': 566, 'coons': 567, 'paying': 1631, 'yep': 2443, 'tom': 2195, 'treated': 2218, '128077': 26, 'laugh': 1267, 'congrats': 556, 'turned': 2240, 'housewife': 1106, 'shitty': 1894, 'singing': 1922, '128149': 40, 'needa': 1506, 'followed': 876, 'hop': 1096, '128513': 52, '128131': 36, 'trap': 2215, 'ugh': 2264, 'short': 1898, '128165': 41, '128523': 58, 'important': 1145, 'bullshit': 422, 'lies': 1300, 'rude': 1810, 'worth': 2419, 'theonlyreed': 2141, 'boring': 371, 'nope': 1544, 'hittin': 1073, 'course': 578, 'pain': 1613, 'yu': 2458, 'vonshayeb': 2300, 'mike': 1430, 'texting': 2124, 'thot': 2161, 'sayin': 1832, 'cookie': 563, 'burnt': 428, 'challenge': 480, 'callneeshcakey': 448, 'shady': 1879, 'trying': 2234, 'light': 1302, 'itsnotharold': 1172, '128561': 81, 'assume': 253, 'laid': 1258, 'silly': 1918, 'burn': 427, 'stadium': 2014, 'kinda': 1235, 'buying': 437, 'bucket': 415, 'sons': 1983, 'honestly': 1090, 'snap': 1960, '128521': 56, '128532': 66, 'worked': 2410, 'dinner': 673, 'nap': 1494, 'tripping': 2226, '128539': 70, 'wearing': 2338, 'dicks': 665, 'kinghov1313': 1238, 'bouta': 379, 'delete': 650, 'wake': 2307, 'kinghorsedick': 1237, 'beats': 307, 'step': 2031, 'til': 2179, 'boyfriend': 383, 'mall': 1385, 'built': 420, 'class': 520, 'de': 638, '8216': 127, 'chillin': 503, 'rapper': 1748, 'east': 741, 'unfollow': 2271, 'tweeted': 2247, 'paid': 1612, 'dollars': 696, 'smash': 1950, '128567': 84, 'uce_ina': 2263, 'attitude': 259, 'hook': 1094, 'homeless': 1084, 'sleeping': 1937, 'box': 381, 'system': 2075, 'minute': 1441, 'sluts': 1946, 'freshman': 898, 'warm': 2320, 'himself': 1066, '128170': 45, 'alex': 188, 'spot': 2008, 'stone': 2041, 'awesome': 269, 'tank': 2091, '128522': 57, 'ion': 1158, 'kidding': 1224, 'pics': 1647, 'joke': 1200, 'waste': 2325, 'alcohol': 186, 'raise': 1741, 'fish': 855, 'named': 1492, 'none': 1543, 'goals': 962, 'hun': 1115, '128107': 31, '1017_sqquad': 7, 'giants': 948, 'dance': 623, 'suppose': 2066, 'loved': 1359, 'zebra': 2460, 'throwing': 2171, 'irrelevant': 1163, 'store': 2044, 'themselves': 2138, 'boosie': 367, 'rape': 1747, 'difference': 671, 'vsamone': 2303, 'church': 514, 'absolutely': 149, 'police': 1678, 'king': 1236, 'rice': 1790, 'desperate': 661, 'listening': 1317, 'what_evaittakes': 2357, 'filled': 841, 'fo': 869, 'folk': 873, 'trynna': 2237, 'officially': 1570, 'neither': 1513, 'flight': 861, 'messy': 1417, 'faces': 794, 'derek': 655, 'caymarieee': 478, 'whereyohussleat': 2362, 'mfs': 1422, 'happened': 1022, 'beer': 314, 'seriously': 1872, 'brandon': 392, 'ctfu': 601, 'slide': 1940, 'dms': 684, 'ciscoallday': 515, 'support': 2065, 'chicks': 497, 'heat': 1048, 'pants': 1617, 'seem': 1856, 'corny': 570, 'agree': 176, 'illegal': 1139, 'djzeeti': 682, 'buy': 436, 'hat': 1028, 'forgot': 888, 'park': 1621, 'driving': 717, 'stick': 2038, 'brady': 387, 'goin': 967, '10071': 5, 'dnt': 685, 'afraid': 169, 'negative': 1509, 'thinks': 2154, 'stealing': 2030, 'wassup': 2324, 'buddy': 418, 'normal': 1546, 'asf': 241, 'train': 2213, 'extra': 786, 'gives': 955, 'lmfaoo': 1332, 'juice': 1204, 'blakeanderson21': 347, 'killin': 1230, 'rap': 1746, 'raised': 1742, 'opinion': 1588, 'huge': 1112, 'dallas': 620, 'friendlyassh0le': 904, 'lightskin': 1304, 'mf': 1421, 'lmfaooo': 1333, 'nigguh': 1534, 'problem': 1706, 'dogs': 692, 'block': 351, '10084': 6, 'offended': 1567, '128541': 72, 'hating': 1034, 'basically': 294, 'definitely': 649, '127814': 13, 'hurry': 1120, 'mother': 1469, 'cole': 539, 'learn': 1275, 'spell': 2001, 'favorites': 819, 'thirsty': 2156, 'jay': 1182, 'funniest': 923, 'des': 656, 'nuts': 1558, '100046729': 4, 'common': 551, 'thompson_era': 2159, 'died': 670, 'beanies': 301, 'flag': 858, 'thru': 2172, 'learned': 1276, 'majority': 1379, 'arguing': 236, 'blunt': 357, 'brah': 389, 'wiz': 2395, 'blocked': 352, 'girlfriends': 952, '128143': 39, 'lying': 1371, 'yung': 2459, 'lmaoooo': 1330, 'leelucas_': 1283, 'disrespectful': 680, 'term': 2118, '128546': 75, 'mi': 1423, 'vintage_monroe_': 2296, 'lilreese300': 1312, 'heads': 1043, 'purpose': 1720, 'pops': 1684, 'deserved': 659, '128133': 37, '12': 12, 'lay': 1271, 'somethin': 1976, 'acting': 156, 'treat': 2217, 'satisfied_x': 1824, 'mikediggem': 1431, 'door': 700, 'final': 844, 'daily': 619, 'pot': 1691, 'switch': 2073, 'hype': 1122, 'bread': 393, 'playoffs': 1671, 'daughter': 632, 'pet': 1640, 'haters': 1031, 'dare': 624, 'mckinley719': 1404, 'ways': 2333, 'count': 575, 'automatically': 264, 'darkskin': 626, 'fashion': 812, 'titty': 2188, 'blow': 354, 'iont': 1159, 'guns': 1003, 'beef': 312, 'den': 654, 'comes': 547, '128169': 44, '35': 116, 'breed': 397, 'poppin': 1683, 'ray': 1754, 'ago': 175, 'jam': 1178, 'shawty': 1886, 'goes': 966, 'milk': 1434, 'wifey': 2376, 'fear': 822, '18': 99, 'sam': 1821, 'kept': 1219, 'almost': 192, 'stevestfler': 2034, 'whiny': 2365, 'jealous': 1183, 'havin': 1037, 'felt': 832, 'town': 2209, 'sisters': 1926, 'crash': 587, 'nut': 1557, 'snow': 1963, 'typical': 2262, 'ice': 1123, 'smoking': 1959, '20': 106, 'adam': 161, 'lead': 1273, 'fell': 831, 'clothes': 530, 'miami': 1424, 'brain': 390, 'goofy': 975, 'tylar____': 2260, 'wins': 2388, '128078': 27, 'weight': 2347, 'anyways': 224, '2nd': 113, 'gas': 935, 'speak': 1998, 'hos': 1101, 'cotton': 571, '_beautifulkeezy': 143, 'order': 1591, 'point': 1676, '8212': 126, 'chat': 489, 'lock': 1336, 'boyfriends': 384, 'potato': 1692, 'classic': 521, 'trippin': 2225, '127881': 14, 'clock': 527, 'hour': 1103, 'following': 878, 'boi': 361, 'dream': 710, 'charge': 485, 'turnt': 2243, 'sent': 1868, 'against': 173, 'fb': 820, 'surprised': 2069, 'hatin': 1033, 'anti': 217, 'basketball': 295, '127936': 16, 'grow': 994, 'na': 1487, 'level': 1293, 'lemme': 1288, 'letting': 1292, 'koleworld4': 1253, 'dumbass': 730, 'secret': 1853, 'paint': 1614, 'table': 2077, 'sloppy': 1943, 'appreciate': 231, 'age': 174, '25': 112, 'idgaf': 1127, '128548': 76, 'fav': 817, 'tx': 2258, 'matter': 1400, 'selfie': 1860, 'album': 185, 'crime': 594, 'solo': 1972, 'homo': 1089, 'breakfast': 395, 'bit': 340, 'statement': 2026, 'square': 2011, 'wind': 2383, 'spread': 2009, 'bow': 380, 'kincade00': 1233, 'biggest': 333, 'hollywood': 1081, 'nicki': 1525, 'minaj': 1436, 'im_yung_jay': 1141, 'book': 366, 'glasses': 959, 'grown': 995, 'lilduval': 1311, 'youre': 2453, 'literally': 1319, 'wen': 2351, 'tbh': 2099, 'months': 1462, 'group': 993, 'rihanna': 1796, 'nerve': 1514, 'hang': 1019, 'paper_chaysin': 1619, 'taken': 2080, 'sorryimalex': 1989, 'idea': 1126, 'souljaboy': 1991, 'michelle': 1426, 'tweeting': 2248, 'stage': 2015, 'atleast': 256, 'pizza': 1658, 'issue': 1168, 'trouble': 2227, 'salty': 1819, 'accident': 151, 'jew': 1188, 'bone': 363, 'stress': 2049, 'safe': 1815, 'coffee': 537, '9733': 135, 'massage': 1397, 'rated': 1751, 'spa': 1996, '718': 122, '622': 120, '0221': 1, 'grand': 988, 'fw': 928, 'jeans': 1184, 'negros': 1511, 'walmart': 2313, 'social': 1966, 'soo': 1984, '1041204': 8, 'august': 261, '1043323': 9, 'stopped': 2043, 'defense': 648, 'friendly': 903, 'swag': 2070, '1043359': 10, 'bein': 318, 'ina': 1148, 'sooo': 1986, 'changed': 484, 'proof': 1710, '99': 138, 'hmu': 1075, 'jack': 1176, 'makeup': 1382, 'bust': 431, 'owe': 1607, 'boo': 364, 'answer': 216, 'doin': 693, 'asses': 250, 'blood': 353, 'shits': 1893, 'lovin': 1361, 'attractive': 260, 'mins': 1440, 'grab': 984, 'deserve': 658, 'thirst': 2155, 'tall': 2089, 'attack': 257, '000': 0, 'scene': 1841, 'parents': 1620, 'instagram': 1154, 'message': 1416, 'com': 545, 'james': 1179, 'puts': 1725, 'touch': 2206, 'crackers': 586, 'gun': 1001, 'rule': 1811, 'socks': 1967, 'general': 938, 'gift': 949, 'amber': 202, 'buckm00se': 416, 'minutes': 1442, 'adult': 165, 'offensive': 1568, 'punk': 1717, 'speaking': 1999, 'election': 751, 'human': 1114, 'country': 576, 'finish': 850, 'lonely': 1340, 'christmas': 511, 'dc': 637, 'nobeeetch': 1540, 'ferguson': 835, '13': 92, 'pollo': 1680, 'faced': 793, 'starting': 2023, '171': 98, 'address': 163, 'understand': 2270, 'dey': 663, 'outchea': 1601, 'drop': 718, 'screaming': 1846, 'bull': 421, 'fugly': 918, 'match': 1398, 'generation': 939, '16': 95, '14': 93, 'area': 233, '90': 134, 'miles': 1432, 'truly': 2229, 'missing': 1445, '8594': 133, 'filthy': 843, 'happens': 1023, 'seems': 1857, 'clear': 524, 'choice': 508, 'huntermoore': 1119, 'graham': 987, 'leaves': 1279, 'fuc': 909, 'democrats': 653, 'republican': 1780, 'pretend': 1701, 'death': 642, 'less': 1289, 'somewhere': 1979, 'figure': 840, 'push': 1721, '9786': 137, 'jobs': 1194, 'clams': 519, 'knock': 1246, 'internet': 1156, 'alejandro_bihhh': 187, 'capodaasshole': 460, 'deserves': 660, 'island': 1166, 'background': 275, 'doesnt': 690, 'reading': 1757, 'lyrics': 1372, 'mood': 1463, 'law': 1269, 'numbers': 1555, 'cards': 464, 'credit': 590, 'luck': 1367, 'army': 238, 'rob': 1801, 'jungle': 1207, 'welcome': 2349, 'blowing': 355, 'forreal': 889, 'mrmooncricket': 1476, 'fuckthemallcops': 917, 'johnny': 1198, 'add': 162, 'magic': 1376, 'shes': 1889, 'shame': 1881, 'beaners': 300, 'belong': 321, 'pulled': 1715, 'legal': 1286, 'lame': 1260, 'dear': 641, 'liberal': 1295, 'bomb': 362, 'muslims': 1482, 'cunts': 607, 'service': 1873, 'trailer': 2212, 'fried': 901, 'beans': 302, 'crew': 592, 'bump': 424, 'busy': 432, 'lately': 1265, 'tour': 2208, 'loser': 1351, 'status': 2027, 'current': 608, 'ignorant': 1134, 'couch': 572, 'fault': 816, 'realized': 1762, 'comin': 548, 'hipster': 1068, 'ivanrabago_': 1175, 'entertaining': 760, 'decided': 644, 'explain': 785, 'logic': 1338, 'thursday': 2175, 'career': 466, 'case': 469, 'press': 1699, 'realest': 1760, 'callmerenee_': 447, 'eyebrows': 788, 'beyonc': 329, 'er': 763, 'tough': 2207, 'african': 170, 'lebron': 1281, 'knees': 1243, 'plans': 1664, 'charlie4927': 487, 'stacydmomof5': 2013, 'revkahjc': 1789, 'cantucimblonde': 459, 'kacado': 1212, 'pattism74': 1628, 'chiefkeef': 498, 'fuzzy': 927, 'chink': 505, 'goat': 963, 'dswizzle3': 724, 'math': 1399, 'pee': 1633, 'pathetic': 1627, 'btw': 414, 'glass': 958, 'realize': 1761, 'stole': 2040, 'league': 1274, 'apparently': 229, 'elchavaloko': 750, 'twist': 2255, 'showing': 1911, 'style': 2054, 'woody_afc': 2404, 'honky': 1092, 'eh': 748, 'especially': 764, 'plano': 1663, 'idiot': 1128, 'assholes': 252, 'gabrielaangela4': 930, 'stephyrae7': 2032, 'pink': 1653, 'terms': 2119, 'gots': 979, 'nor': 1545, 'search': 1848, 'turning': 2241, 'whats': 2359, 'cans': 457, 'movies': 1473, 'clam': 518, 'hours': 1104, 'maniac3x': 1389, 'sauce': 1826, 'feather': 823, 'chanelisabeth': 482, 'shorts': 1899, 'key': 1220, 'nun': 1556, 'target': 2093, 'gabby': 929, 'neighborhood': 1512, 'ta': 2076, 'pray': 1695, 'uses': 2283, 'moon': 1464, 'grizzboadams': 992, 'wyattnuckels': 2427, 'muzzie': 1484, 'lazy': 1272, 'flying': 868, 'steveworks4you': 2035, 'crist': 596, 'american': 204, 'hunglikerobby_': 1116, 'ignore': 1135, 'mix': 1446, 'bought': 377, 'yopapi_chulo': 2448, 'bio': 335, 'afford': 168, 'san': 1823, 'xdsmooth': 2429, 'york': 2449, 'second': 1851, 'energy': 757, 'bigger': 332, 'pair': 1615, 'jawshoeeahhh': 1181, '2014': 108, 'inch': 1149, 'hates': 1032, 'judge': 1203, 'nyc': 1561, 'players': 1668, 'bill': 334, 'besides': 322, 'hopes': 1098, 'national': 1498, 'including': 1150, 'respond': 1783, 'wine': 2385, 'nappy': 1495, 'racism': 1737, 'kensuttling': 1218, 'paper': 1618, 'tricks': 2221, 'angel': 211, 'guinea': 1000, 'pig': 1651, 'scare': 1838, 'burger': 426, 'liveitupjersey': 1322, 'louievree': 1357, 'trade': 2211, 'wings': 2386, 'torahblaze': 2203, 'dj': 681, 'jump': 1205, 'kicked': 1222, 'barely': 289, 'stuck': 2051, 'stalking': 2016, 'peter': 1641, 'twinkie': 2253, 'arm': 237, 'regardless': 1771, 'vs': 2302, 'random': 1745, 'join': 1199, 'nyrkelsmads': 1562, 'eats': 746, 'episode': 762, 'snitch': 1962, 'upset': 2278, '128109': 32, 'o3_millz': 1563, 'tellin': 2114, 'duck': 725, 'thereal_emandm': 2143, 'flip': 862, 'oskzilla': 1596, 'george': 940, 'pacdagoat': 1609, 'mets': 1419, 'closed': 529, 'blew': 349, 'based': 292, 'sign': 1917, 'constantly': 557, 'talked': 2085, 'lit': 1318, 'pimp': 1652, 'horny': 1099, 'garbage': 934, 'plane': 1661, 'martin': 1395, 'eye': 787, 'apes': 228, 'lls': 1326, 'above': 147, 'curve': 609, 'unlike': 2273, 'slant': 1932, 'texted': 2123, 'republicans': 1781, 'nails': 1489, 'camera': 452, 'mickey': 1427, 'nick': 1524, 'born': 372, 'liked': 1306, 'disgusting': 678, 'hashtag': 1027, 'ashamed': 242, 'fries': 906, 'film': 842, 'remind': 1776, 'smokin': 1958, 'asleep': 248, 'houston': 1107, 'wayne': 2332, 'talmbout': 2090, 'posting': 1690, 'hearing': 1046, 'aha': 178, 'jumped': 1206, 'kieffer_jason': 1226, 'five': 857, 'queers': 1729, 'sbsylvester': 1835, 'hunterbuch66': 1118, 'reply': 1778, 'sub': 2055, 'birth': 338, 'bees': 315, 'disrespect': 679, 'rent': 1777, 'espn': 765, 'wide': 2374, 'certain': 479, 'planet': 1662, 'twinkies': 2254, 'mention': 1413, 'justezzzee': 1210, 'list': 1315, 'hip': 1067, 'winter': 2389, 'saturday': 1825, 'plan': 1660, 'crowd': 598, 'ten': 2117, 'abo': 145, 'monday': 1458, 'stevie': 2036, 'star': 2020, '128081': 30, 'often': 1571, 'thecoreyholcomb': 2135, 'pack': 1610, 'office': 1569, 'bf': 330, 'wears': 2339, 'brag': 388, 'nuttin': 1559, 'selfies': 1861, 'absolute': 148, 'debate': 643, 'thotcho': 2162, 'asks': 247, 'rick': 1792, 'clubs': 533, 'ova': 1605, 'saved': 1828, 'browns': 411, 'sexual': 1877, 'ross': 1806, 'scott': 1844, 'outfit': 1602, 'iggy': 1133, 'experience': 784, '1inkkofrosess': 102, 'beard': 304, 'marry': 1394, 'goodnight': 974, 'relationships': 1774, 'levels': 1294, 'cannot': 456, 'goal': 961, '1stblocjeremiah': 104, 'ht': 1109, '_100d': 142, '1bookieg': 101, 'cuhcuhcuh': 604, 'now_thats_fresh': 1552, 'hbcufessions': 1039, 'imneverchillin': 1144, 'kingtunchi_': 1239, '128571': 85, 'taxstone': 2098, 'thevoiceofmiami': 2146, 'woridstarhlphop': 2408}\n"
          ],
          "name": "stdout"
        }
      ]
    },
    {
      "cell_type": "code",
      "metadata": {
        "id": "hOQORdL9Xgth",
        "colab": {
          "base_uri": "https://localhost:8080/"
        },
        "outputId": "2d1e2a6d-9920-4686-a2e2-ca402309c4f0"
      },
      "source": [
        "import time\n",
        "from sklearn import svm\n",
        "from sklearn.metrics import classification_report\n",
        "# Perform classification with SVM, kernel=linear\n",
        "classifier_linear = svm.SVC(kernel='linear')\n",
        "t0 = time.time()\n",
        "classifier_linear.fit(train_vectors, training_labels)\n",
        "t1 = time.time()\n",
        "prediction_linear = classifier_linear.predict(train_vectors)\n",
        "t2 = time.time()\n",
        "time_linear_train = t1-t0\n",
        "time_linear_predict = t2-t1\n",
        "# results\n",
        "print(\"Training time: %fs; Prediction time: %fs\" % (time_linear_train, time_linear_predict))\n",
        "report = classification_report(training_labels, prediction_linear, output_dict=True)\n",
        "print(\"Accuracy: \" + str(report[\"accuracy\"]))"
      ],
      "execution_count": 7,
      "outputs": [
        {
          "output_type": "stream",
          "text": [
            "Training time: 16.077673s; Prediction time: 10.961193s\n",
            "Accuracy: 0.9684361549497847\n"
          ],
          "name": "stdout"
        }
      ]
    },
    {
      "cell_type": "code",
      "metadata": {
        "colab": {
          "base_uri": "https://localhost:8080/"
        },
        "id": "O7oNdctBfoXI",
        "outputId": "26113216-a4f9-4fb8-88ab-88b4ceda68a4"
      },
      "source": [
        "from sklearn.svm import LinearSVC\n",
        "X_train=train_vectors\n",
        "y_train=training_labels\n",
        "X_test=test_vectors #should be around 30% of you your data\n",
        "y_test=test_labels\n",
        "svm = LinearSVC()\n",
        "svm.fit(X_train, y_train)\n",
        "count = 0\n",
        "false_negative = 0\n",
        "false_positive = 0\n",
        "for item, label in zip(X_test, y_test):\n",
        "  count += 1\n",
        "  result = svm.predict(item)\n",
        "  if result != label:\n",
        "      print(test_tweets[count - 1], result, label)\n",
        "      if result == 1:\n",
        "        false_positive += 1\n",
        "      else:\n",
        "        false_negative += 1\n",
        "print(false_positive)\n",
        "print(false_negative)"
      ],
      "execution_count": 8,
      "outputs": [
        {
          "output_type": "stream",
          "text": [
            "and another one &#8220;@07Cannon: Two hoes? RT \"@xoxo_imaunicorn: y'all know what we are?! &#128514;&#128514;\" http://t.co/XI5Aod1FAo&#8221; [-1] 1\n",
            "apparently I'm pathetic trash alright (-: [-1] 1\n",
            "auto tranny [-1] 1\n",
            "basement diving mook bastards [1] -1\n",
            "butt chug 4lokos or nah [1] -1\n",
            "chill zahra im getting crackers rn [1] -1\n",
            "country boy, hick lyfe, white tee, rebel flag [-1] 1\n",
            "cut up porkchop, canned pinto beans, a small can of carrots, can of corn, celery, a potato. cayenne powder + crushed red pepper [-1] 1\n",
            "f u tumblr bc my blog is black &amp; white but there's so many great colored things I could reblog fml [-1] 1\n",
            "flappy bird makes me want to smash my fuckin screen [1] -1\n",
            "geekylesbianscientists: theblairbetch: douglasrichardsonships: kayla-bird: okay but consider this though:... http://t.co/zAHyXtaVvo [1] -1\n",
            "guess I will mess with it later! not sure what else to do! maybe trash it! lol!!! not yet maybe after I when the lottery! [-1] 1\n",
            "guys that cheat on their girlfriend are trash.  the girls that know he has a girlfriend are also trash. [1] -1\n",
            "happy bro, happy ho: \"Happy husband key to marriage? U of C study thinks so\" | http://t.co/KkNd87Mv4b http://t.co/kag0xFDd1S [1] -1\n",
            "has anyone noticed that aliens have flaws too, some of those retards have crash landed on earth? means they dont know how to drive [1] -1\n",
            "hi, i am neither dumb, nor a bitch. im pretty smart and am one of the most genuinely nice people i've ever met. [1] -1\n",
            "http://t.co/bPU86qzYFt Arial Rose &#8211; Athletic Asian babe plays with her pussy after&#160;exercising http://t.co/n3DnrsI352 [1] -1\n",
            "hungrier then a ho [1] -1\n",
            "im weeaboo trash [1] -1\n",
            "ion like papoose but he went in lol [-1] 1\n",
            "is it ghetto to grease yo scalp at work [-1] 1\n",
            "just a casual ghetto family twerk session http://t.co/jRmePckCqs [1] -1\n",
            "just saw the words \"tinker tailor soldier spy\" and muttered \"no\" aloud @jennyyhernandez @chellyhernandez [-1] 1\n",
            "lmao RT @SirRocObama: Tu Madre RT @WaymoTheGod: nacho doritos trash [1] -1\n",
            "lmaoooo RT @PhillyTheBoss: Everything on BET is trash. RT @MrCOOK_: B-Rad RT @fkinLIVE: White Mike was on BET, he can't be trash [-1] 1\n",
            "lmaooooo RT @SirAsshole: when you sit in a ghetto girls seat at lunch https://t.co/HaSLMb1Dzj [1] -1\n",
            "lol i liked that album RT @az5950: That \"Double Up\" Album was so trash son...smh [1] -1\n",
            "looking like a hillbilly and not matching is what I do best goodnight losers http://t.co/caGHBLKAXQ [1] -1\n",
            "money hoes and clothes [-1] 1\n",
            "no RT @_sirhampton_: LMFAO those trash tho RT @Barack_Obutta: Candy corn J's _sirhampton_ \"@_justspeedy: These hard? http://t.co/SQVYksdkwU\" [1] -1\n",
            "not fun @DPD_UK when you have braxton hicks and cramps regularly from moving around. You try it! [-1] 1\n",
            "o unpunished. This has been the view for many thousands of years in civilised and uncivilised society. [-1] 1\n",
            "ofcourse when someone asks what else to eat, jackass over here goes \"brownies\" BIG surprise here... #dingbat [1] -1\n",
            "only my school wouldnt give kids their schedules... #ghetto [-1] 1\n",
            "pinto grigio dreams turned into moscato reality [-1] 1\n",
            "pure trash http://t.co/A2RbVEBeg1 [1] -1\n",
            "red bone but her pusssy hairlessss [1] -1\n",
            "remember when the dude who played young ned followed my youtube channel. this was when i actually used my youtube for more than favorites [-1] 1\n",
            "shout out to pullz cuz I kno if I was trash he would have kept it a buck... I swear he had every I made jus cuz n actually bump dem too [-1] 1\n",
            "so uncivilized [-1] 1\n",
            "so. mad... We live in a world where whitey can go to jail for a word other folks wear right on their hats &amp; tshirts. If I wore that shirt... [-1] 1\n",
            "still trash http://t.co/x0ghHf0imn [1] -1\n",
            "stuffed her like an Oreo http://t.co/mPAjkWJbZp [1] -1\n",
            "stupid teacher talks to @RandyMower like he's retarded [-1] 1\n",
            "thank god FOB didnt come back doing some shitty arena tour. #iwaited5yearsforfobandiallgotwasthisshittyarena SYKEEEE [1] -1\n",
            "the #genesis of my tna watching is so bad I can't even mock-live tweet it [1] -1\n",
            "the Hitman Holla vs Charlie Clips match-up is bittersweet. shit's gonna be cold cus HITMAN HOLLA GONNA WORK but it's his last battle..... [1] -1\n",
            "the train station Harry's at is trash I've been to the same Eurostar too they refunded my whole trip to Paris bc train accident [-1] 1\n",
            "they shot another monkey lmaooooooooooo [1] -1\n",
            "this movie is actually good cuz its so retarded [-1] 1\n",
            "u ho@RealWizKhalifa u hot i really like the way u keep te flow natural [-1] 1\n",
            "ur trash! http://t.co/6KN7PzTgl8 [1] -1\n",
            "where r the fun twins at @TheJsimps I'm trying to lick cheeto dust and coleslaw off your nips [1] -1\n",
            "which one of these names is more offensive kike, wop, kraut, wetback jigaboo, towelhead, gook, or redskin. [1] -1\n",
            "why are these freshman so ghetto lmao [1] -1\n",
            "wishing I could high five whoever named a species of birds \"great tits\" [1] -1\n",
            "wow.... a bird just shitted on me [1] -1\n",
            "yeah i got soul i was brought up by colored women. [1] -1\n",
            "you drove me redneck crazy [1] -1\n",
            "you's a muthaf***in lie &#8220;@LifeAsKing: @20_Pearls @corey_emanuel right! His TL is trash &#8230;. Now, mine? Bible scriptures and hymns&#8221; [1] -1\n",
            "36\n",
            "24\n"
          ],
          "name": "stdout"
        }
      ]
    },
    {
      "cell_type": "code",
      "metadata": {
        "id": "v9-oDUICXjEB",
        "colab": {
          "base_uri": "https://localhost:8080/"
        },
        "outputId": "dd89c689-bec5-4755-a61e-a28e6f148290"
      },
      "source": [
        "#Gaussian Radial Basis Function (RBF)\n",
        "import time\n",
        "from sklearn import svm\n",
        "from sklearn.metrics import classification_report\n",
        "rbf_clf = svm.SVC(kernel='rbf', C=1.0)\n",
        "t0 = time.time()\n",
        "rbf_clf.fit(train_vectors, training_labels)\n",
        "t1 = time.time()\n",
        "prediction_rbf = rbf_clf.predict(train_vectors)\n",
        "t2 = time.time()\n",
        "time_rbf_train = t1-t0\n",
        "time_rbf_predict = t2-t1\n",
        "# results\n",
        "print(\"Training time: %fs; Prediction time: %fs\" % (time_rbf_train, time_rbf_predict))\n",
        "report = classification_report(training_labels, prediction_rbf, output_dict=True)\n",
        "print(\"Accuracy: \" + str(report[\"accuracy\"]))\n"
      ],
      "execution_count": 9,
      "outputs": [
        {
          "output_type": "stream",
          "text": [
            "Training time: 77.380319s; Prediction time: 22.318357s\n",
            "Accuracy: 0.989105093256815\n"
          ],
          "name": "stdout"
        }
      ]
    },
    {
      "cell_type": "code",
      "metadata": {
        "id": "H75qAaWBsryj",
        "colab": {
          "base_uri": "https://localhost:8080/"
        },
        "outputId": "8356f689-235c-4157-f2fe-4b77fe665e56"
      },
      "source": [
        "from sklearn import svm\n",
        "from sklearn.svm import SVC\n",
        "X_train=train_vectors\n",
        "y_train=training_labels\n",
        "X_test=test_vectors #should be around 30% of you your data\n",
        "y_test=test_labels\n",
        "svm = svm.SVC(kernel='rbf', C=1.0)\n",
        "svm.fit(X_train, y_train)\n",
        "count = 0\n",
        "for item, label in zip(X_test, y_test):\n",
        "  count += 1\n",
        "  result = svm.predict(item)\n",
        "  if result != label:\n",
        "      print(test_tweets[count - 1], result, label)\n",
        "      if result == 1:\n",
        "        false_positive += 1\n",
        "      else:\n",
        "        false_negative += 1\n",
        "print(false_positive)\n",
        "print(false_negative)"
      ],
      "execution_count": 10,
      "outputs": [
        {
          "output_type": "stream",
          "text": [
            "and another one &#8220;@07Cannon: Two hoes? RT \"@xoxo_imaunicorn: y'all know what we are?! &#128514;&#128514;\" http://t.co/XI5Aod1FAo&#8221; [-1] 1\n",
            "animal crackers are the fuckin bomb, yo [1] -1\n",
            "auto tranny [-1] 1\n",
            "b/c she likes black men and rap music? Huh lol RT @Magssca: @WaymoTheGod in general she wants to be colored [-1] 1\n",
            "basement diving mook bastards [1] -1\n",
            "butt chug 4lokos or nah [1] -1\n",
            "chill zahra im getting crackers rn [1] -1\n",
            "coon RT @HumbleTeej: &lt;fills coffee up halfway&gt; &lt;uses 11 Irish cremes to fill other half&gt; [-1] 1\n",
            "country boy, hick lyfe, white tee, rebel flag [-1] 1\n",
            "damn they gonna leave beth here long term. trash [1] -1\n",
            "f u tumblr bc my blog is black &amp; white but there's so many great colored things I could reblog fml [-1] 1\n",
            "flappy bird makes me want to smash my fuckin screen [1] -1\n",
            "geekylesbianscientists: theblairbetch: douglasrichardsonships: kayla-bird: okay but consider this though:... http://t.co/zAHyXtaVvo [1] -1\n",
            "guess rubes doesn't want to go on a date with me &#128532; [-1] 1\n",
            "guys that cheat on their girlfriend are trash.  the girls that know he has a girlfriend are also trash. [1] -1\n",
            "happy bro, happy ho: \"Happy husband key to marriage? U of C study thinks so\" | http://t.co/KkNd87Mv4b http://t.co/kag0xFDd1S [1] -1\n",
            "how much you wanna bet that a anti-government \"black helicopter\" teabagger was behind the Boston Marathon explosions? @TwitchyTeam #p2 #tcot [-1] 1\n",
            "i made sweet &amp; SPICY drunken noodles with handmade and handcut ho fun noodles with marinated chicken/shrimp. my back is hurting. [-1] 1\n",
            "i wanna go to the ghetto club tonight. [-1] 1\n",
            "im weeaboo trash [1] -1\n",
            "ion like papoose but he went in lol [-1] 1\n",
            "is it ghetto to grease yo scalp at work [-1] 1\n",
            "just a casual ghetto family twerk session http://t.co/jRmePckCqs [1] -1\n",
            "just saw the words \"tinker tailor soldier spy\" and muttered \"no\" aloud @jennyyhernandez @chellyhernandez [-1] 1\n",
            "lmao RT @SirRocObama: Tu Madre RT @WaymoTheGod: nacho doritos trash [1] -1\n",
            "lmaoooo RT @PhillyTheBoss: Everything on BET is trash. RT @MrCOOK_: B-Rad RT @fkinLIVE: White Mike was on BET, he can't be trash [-1] 1\n",
            "lol i liked that album RT @az5950: That \"Double Up\" Album was so trash son...smh [1] -1\n",
            "looking like a hillbilly and not matching is what I do best goodnight losers http://t.co/caGHBLKAXQ [1] -1\n",
            "mall with my fellow ginzos to do some christmas shopping @Vinnyliarda @Dimi_Artale @Billythathird #fuckdimmy #vinnysnotmadon #billgetsbuns [-1] 1\n",
            "money hoes and clothes [-1] 1\n",
            "no RT @_sirhampton_: LMFAO those trash tho RT @Barack_Obutta: Candy corn J's _sirhampton_ \"@_justspeedy: These hard? http://t.co/SQVYksdkwU\" [1] -1\n",
            "not fun @DPD_UK when you have braxton hicks and cramps regularly from moving around. You try it! [-1] 1\n",
            "o unpunished. This has been the view for many thousands of years in civilised and uncivilised society. [-1] 1\n",
            "ofcourse when someone asks what else to eat, jackass over here goes \"brownies\" BIG surprise here... #dingbat [1] -1\n",
            "oh.... Trash you say... This trash gonna keep driving thru ky.. &#8220;@corey_emanuel: @LifeAsKing she's trash. Just gotta ignore her.&#8221; [1] -1\n",
            "old fellas water froze in that funeral home. he got it unthawed and wants me to help get his pump going again, that place spooks me man..boo [-1] 1\n",
            "only my school wouldnt give kids their schedules... #ghetto [-1] 1\n",
            "pinto grigio dreams turned into moscato reality [-1] 1\n",
            "pure trash http://t.co/A2RbVEBeg1 [1] -1\n",
            "red bone but her pusssy hairlessss [1] -1\n",
            "remember when the dude who played young ned followed my youtube channel. this was when i actually used my youtube for more than favorites [-1] 1\n",
            "slut. specky. albino lesbo. wannabe player. dwarf. #coolcunts #absoluteyvile [1] -1\n",
            "so uncivilized [-1] 1\n",
            "so. mad... We live in a world where whitey can go to jail for a word other folks wear right on their hats &amp; tshirts. If I wore that shirt... [-1] 1\n",
            "still trash http://t.co/x0ghHf0imn [1] -1\n",
            "stuffed her like an Oreo http://t.co/mPAjkWJbZp [1] -1\n",
            "stupid teacher talks to @RandyMower like he's retarded [-1] 1\n",
            "the #genesis of my tna watching is so bad I can't even mock-live tweet it [1] -1\n",
            "the Hitman Holla vs Charlie Clips match-up is bittersweet. shit's gonna be cold cus HITMAN HOLLA GONNA WORK but it's his last battle..... [1] -1\n",
            "them jants be clutch for bedtime tho &#128514;&#128557; [-1] 1\n",
            "they shot another monkey lmaooooooooooo [1] -1\n",
            "this movie is actually good cuz its so retarded [-1] 1\n",
            "u ho@RealWizKhalifa u hot i really like the way u keep te flow natural [-1] 1\n",
            "ur trash! http://t.co/6KN7PzTgl8 [1] -1\n",
            "where r the fun twins at @TheJsimps I'm trying to lick cheeto dust and coleslaw off your nips [1] -1\n",
            "which one of these names is more offensive kike, wop, kraut, wetback jigaboo, towelhead, gook, or redskin. [1] -1\n",
            "wishing I could high five whoever named a species of birds \"great tits\" [1] -1\n",
            "wow.... a bird just shitted on me [1] -1\n",
            "yaya ho.. cute avi tho RT @ViVaLa_Ari I had no idea she was sleep &#128553; [-1] 1\n",
            "yea so about @N_tel 's new friend.. all my friends kno they're only allowed one cute darkie friend n that's me! lol [-1] 1\n",
            "yeah i got soul i was brought up by colored women. [1] -1\n",
            "yes good shapely eurotrash manbooty [1] -1\n",
            "you drove me redneck crazy [1] -1\n",
            "you's a muthaf***in lie &#8220;@LifeAsKing: @20_Pearls @corey_emanuel right! His TL is trash &#8230;. Now, mine? Bible scriptures and hymns&#8221; [1] -1\n",
            "you've gone and broke the wrong heart baby, and drove me redneck crazy [-1] 1\n",
            "70\n",
            "55\n"
          ],
          "name": "stdout"
        }
      ]
    }
  ]
}