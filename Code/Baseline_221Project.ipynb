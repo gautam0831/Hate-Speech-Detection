{
  "nbformat": 4,
  "nbformat_minor": 0,
  "metadata": {
    "colab": {
      "name": "Baseline_221Project.ipynb",
      "provenance": [],
      "collapsed_sections": []
    },
    "kernelspec": {
      "name": "python3",
      "display_name": "Python 3"
    },
    "language_info": {
      "name": "python"
    }
  },
  "cells": [
    {
      "cell_type": "code",
      "metadata": {
        "id": "jzYk_nZTie2p"
      },
      "source": [
        ""
      ],
      "execution_count": null,
      "outputs": []
    },
    {
      "cell_type": "code",
      "metadata": {
        "id": "u4DDvYqEUuof"
      },
      "source": [
        "import pandas as pd\n"
      ],
      "execution_count": 1,
      "outputs": []
    },
    {
      "cell_type": "markdown",
      "metadata": {
        "id": "5HVgXW35jJwv"
      },
      "source": [
        ""
      ]
    },
    {
      "cell_type": "code",
      "metadata": {
        "id": "9Y8wV9A0jKK-"
      },
      "source": [
        "import csv"
      ],
      "execution_count": 2,
      "outputs": []
    },
    {
      "cell_type": "code",
      "metadata": {
        "colab": {
          "base_uri": "https://localhost:8080/",
          "height": 204
        },
        "id": "CfI6n07CcOVx",
        "outputId": "1cb9f987-2621-43dc-a895-dc532eae2af8"
      },
      "source": [
        "data = pd.read_csv('labeled_data.csv', encoding = \"ISO-8859-1\", low_memory=False)\n",
        "data.head(5)"
      ],
      "execution_count": 3,
      "outputs": [
        {
          "output_type": "execute_result",
          "data": {
            "text/html": [
              "<div>\n",
              "<style scoped>\n",
              "    .dataframe tbody tr th:only-of-type {\n",
              "        vertical-align: middle;\n",
              "    }\n",
              "\n",
              "    .dataframe tbody tr th {\n",
              "        vertical-align: top;\n",
              "    }\n",
              "\n",
              "    .dataframe thead th {\n",
              "        text-align: right;\n",
              "    }\n",
              "</style>\n",
              "<table border=\"1\" class=\"dataframe\">\n",
              "  <thead>\n",
              "    <tr style=\"text-align: right;\">\n",
              "      <th></th>\n",
              "      <th>Unnamed: 0</th>\n",
              "      <th>count</th>\n",
              "      <th>hate_speech</th>\n",
              "      <th>offensive_language</th>\n",
              "      <th>neither</th>\n",
              "      <th>class</th>\n",
              "      <th>tweet</th>\n",
              "    </tr>\n",
              "  </thead>\n",
              "  <tbody>\n",
              "    <tr>\n",
              "      <th>0</th>\n",
              "      <td>0</td>\n",
              "      <td>3</td>\n",
              "      <td>0</td>\n",
              "      <td>0</td>\n",
              "      <td>3</td>\n",
              "      <td>2</td>\n",
              "      <td>!!! RT @mayasolovely: As a woman you shouldn't...</td>\n",
              "    </tr>\n",
              "    <tr>\n",
              "      <th>1</th>\n",
              "      <td>1</td>\n",
              "      <td>3</td>\n",
              "      <td>0</td>\n",
              "      <td>3</td>\n",
              "      <td>0</td>\n",
              "      <td>1</td>\n",
              "      <td>!!!!! RT @mleew17: boy dats cold...tyga dwn ba...</td>\n",
              "    </tr>\n",
              "    <tr>\n",
              "      <th>2</th>\n",
              "      <td>2</td>\n",
              "      <td>3</td>\n",
              "      <td>0</td>\n",
              "      <td>3</td>\n",
              "      <td>0</td>\n",
              "      <td>1</td>\n",
              "      <td>!!!!!!! RT @UrKindOfBrand Dawg!!!! RT @80sbaby...</td>\n",
              "    </tr>\n",
              "    <tr>\n",
              "      <th>3</th>\n",
              "      <td>3</td>\n",
              "      <td>3</td>\n",
              "      <td>0</td>\n",
              "      <td>2</td>\n",
              "      <td>1</td>\n",
              "      <td>1</td>\n",
              "      <td>!!!!!!!!! RT @C_G_Anderson: @viva_based she lo...</td>\n",
              "    </tr>\n",
              "    <tr>\n",
              "      <th>4</th>\n",
              "      <td>4</td>\n",
              "      <td>6</td>\n",
              "      <td>0</td>\n",
              "      <td>6</td>\n",
              "      <td>0</td>\n",
              "      <td>1</td>\n",
              "      <td>!!!!!!!!!!!!! RT @ShenikaRoberts: The shit you...</td>\n",
              "    </tr>\n",
              "  </tbody>\n",
              "</table>\n",
              "</div>"
            ],
            "text/plain": [
              "   Unnamed: 0  count  ...  class                                              tweet\n",
              "0           0      3  ...      2  !!! RT @mayasolovely: As a woman you shouldn't...\n",
              "1           1      3  ...      1  !!!!! RT @mleew17: boy dats cold...tyga dwn ba...\n",
              "2           2      3  ...      1  !!!!!!! RT @UrKindOfBrand Dawg!!!! RT @80sbaby...\n",
              "3           3      3  ...      1  !!!!!!!!! RT @C_G_Anderson: @viva_based she lo...\n",
              "4           4      6  ...      1  !!!!!!!!!!!!! RT @ShenikaRoberts: The shit you...\n",
              "\n",
              "[5 rows x 7 columns]"
            ]
          },
          "metadata": {
            "tags": []
          },
          "execution_count": 3
        }
      ]
    },
    {
      "cell_type": "code",
      "metadata": {
        "colab": {
          "base_uri": "https://localhost:8080/"
        },
        "id": "GLtH_KXBcUxH",
        "outputId": "c0269160-be35-47ff-b4d5-c3c94c96f138"
      },
      "source": [
        "data.shape"
      ],
      "execution_count": 4,
      "outputs": [
        {
          "output_type": "execute_result",
          "data": {
            "text/plain": [
              "(24783, 7)"
            ]
          },
          "metadata": {
            "tags": []
          },
          "execution_count": 4
        }
      ]
    },
    {
      "cell_type": "code",
      "metadata": {
        "colab": {
          "base_uri": "https://localhost:8080/"
        },
        "id": "eff4uWeiiHfN",
        "outputId": "65889ac3-d63c-4006-f834-a9582de0b9b7"
      },
      "source": [
        "\n",
        "tweet = data[\"tweet\"][9].replace(\"\\n\", \" \")\n",
        "print(tweet)"
      ],
      "execution_count": 5,
      "outputs": [
        {
          "output_type": "stream",
          "text": [
            "\" @rhythmixx_ :hobbies include: fighting Mariam\"  bitch\n"
          ],
          "name": "stdout"
        }
      ]
    },
    {
      "cell_type": "code",
      "metadata": {
        "id": "99PSIjZXcXDg"
      },
      "source": [
        "#Make 90% of data for training\n",
        "#Original dataset said 0=Hate speech, 1=Offensive but not hate speech, 2=neither \n",
        "#We need binary labels so first we made +1 only if it is not hate speech (>0) but this made majority of the dataset +1 and very few -1. \n",
        "#So, changed labels so only classified as non-hate if orig label (>1)\n",
        "training = open(\"training_data.txt\", \"w+\")\n",
        "for i in range(int(0.9*data.shape[0])):\n",
        "  tweet = data[\"tweet\"][i].replace(\"\\n\", \" \")\n",
        "  label = data[\"class\"][i]\n",
        "  if label > 1:\n",
        "    label = \"+1\"\n",
        "  else:\n",
        "    label = \"-1\"\n",
        "  \n",
        "  training.write(label + \" \" + tweet + \"\\n\")\n",
        "\n",
        "training.close()"
      ],
      "execution_count": 6,
      "outputs": []
    },
    {
      "cell_type": "code",
      "metadata": {
        "id": "2WfCjPJ5ce8Z"
      },
      "source": [
        "validation = open(\"validation_data.txt\", \"w+\")\n",
        "for i in range(1239):\n",
        "  tweet = data[\"tweet\"][22304+i].replace(\"\\n\", \" \")\n",
        "\n",
        "  label = data[\"class\"][22304+i]\n",
        "  if label > 1:\n",
        "    label = \"+1\"\n",
        "  else:\n",
        "    label = \"-1\"\n",
        "  \n",
        "  validation.write(label + \" \" + tweet + \"\\n\")\n",
        "\n",
        "validation.close()"
      ],
      "execution_count": 7,
      "outputs": []
    },
    {
      "cell_type": "code",
      "metadata": {
        "id": "7rqZ28TEch-C"
      },
      "source": [
        "testing = open(\"testing_data.txt\", \"w+\")\n",
        "for i in range(1240):\n",
        "  tweet = data[\"tweet\"][23543+i].replace(\"\\n\", \" \")\n",
        "\n",
        "  label = data[\"class\"][23543+i]\n",
        "  if label > 1:\n",
        "    label = \"+1\"\n",
        "  else:\n",
        "    label = \"-1\"\n",
        "  \n",
        "  testing.write(label + \" \" + tweet + \"\\n\")\n",
        "\n",
        "testing.close()"
      ],
      "execution_count": 8,
      "outputs": []
    },
    {
      "cell_type": "code",
      "metadata": {
        "id": "yrNDLQQrckcp"
      },
      "source": [
        "from typing import Callable, Dict, List, Tuple, TypeVar"
      ],
      "execution_count": 9,
      "outputs": []
    },
    {
      "cell_type": "code",
      "metadata": {
        "id": "8ruP4zeZcnLx"
      },
      "source": [
        "import random\n",
        "import sys\n",
        "from collections import Counter"
      ],
      "execution_count": 10,
      "outputs": []
    },
    {
      "cell_type": "code",
      "metadata": {
        "id": "1BRgx6s5cokA"
      },
      "source": [
        "def dotProduct(d1, d2):\n",
        "  \n",
        "    if len(d1) < len(d2):\n",
        "        return dotProduct(d2, d1)\n",
        "    else:\n",
        "        return sum(d1.get(f, 0) * v for f, v in list(d2.items()))\n",
        "\n",
        "\n",
        "def increment(d1, scale, d2):\n",
        "  \n",
        "    for f, v in list(d2.items()):\n",
        "        d1[f] = d1.get(f, 0) + v * scale\n",
        "\n",
        "\n",
        "def readExamples(path):\n",
        " \n",
        "    examples = []\n",
        "    for line in open(path, \"rb\"):\n",
        "        \n",
        "        line = line.decode('latin-1')\n",
        "      \n",
        "        y, x = line.split(' ', 1)\n",
        "        examples.append((x.strip(), int(y)))\n",
        "    print('Read %d examples from %s' % (len(examples), path))\n",
        "    return examples\n",
        "\n",
        "\n",
        "def evaluatePredictor(examples, predictor):\n",
        "   \n",
        "    error = 0\n",
        "    for x, y in examples:\n",
        "        if predictor(x) != y:\n",
        "            error += 1\n",
        "    return 1.0 * error / len(examples)\n",
        "\n",
        "\n",
        "def outputWeights(weights, path):\n",
        "    print(\"%d weights\" % len(weights))\n",
        "    out = open(path, 'w', encoding='utf8')\n",
        "    for f, v in sorted(list(weights.items()), key=lambda f_v: -f_v[1]):\n",
        "        print('\\t'.join([f, str(v)]), file=out)\n",
        "    out.close()\n",
        "\n",
        "\n",
        "def verbosePredict(phi, y, weights, out):\n",
        "    yy = 1 if dotProduct(phi, weights) >= 0 else -1\n",
        "    if y:\n",
        "        print('Truth: %s, Prediction: %s [%s]' % (\n",
        "            y, yy, 'CORRECT' if y == yy else 'WRONG'), file=out)\n",
        "    else:\n",
        "        print('Prediction:', yy, file=out)\n",
        "    for f, v in sorted(list(phi.items()), key=lambda f_v1: -f_v1[1] * weights.get(f_v1[0], 0)):\n",
        "        w = weights.get(f, 0)\n",
        "        print(\"%-30s%s * %s = %s\" % (f, v, w, v * w), file=out)\n",
        "    return yy\n",
        "\n",
        "\n",
        "def outputErrorAnalysis(examples, featureExtractor, weights, path):\n",
        "    out = open(path, 'w')\n",
        "    for x, y in examples:\n",
        "        print('===', x, file=out)\n",
        "        verbosePredict(featureExtractor(x), y, weights, out)\n",
        "    out.close()\n",
        "\n",
        "\n",
        "def interactivePrompt(featureExtractor, weights):\n",
        "    while True:\n",
        "        print('> ', end=' ')\n",
        "        x = sys.stdin.readline()\n",
        "        if not x:\n",
        "            break\n",
        "        phi = featureExtractor(x)\n",
        "        verbosePredict(phi, None, weights, sys.stdout)\n"
      ],
      "execution_count": 11,
      "outputs": []
    },
    {
      "cell_type": "code",
      "metadata": {
        "id": "3ihsL4Vgcrjz"
      },
      "source": [
        "FeatureVector = Dict[str, int]\n",
        "WeightVector = Dict[str, float]\n",
        "Example = Tuple[FeatureVector, int]"
      ],
      "execution_count": 12,
      "outputs": []
    },
    {
      "cell_type": "code",
      "metadata": {
        "id": "bYaaohjMcvHi"
      },
      "source": [
        "def extractWordFeatures(x: str) -> FeatureVector:\n",
        "\n",
        "    d = {}\n",
        "    for word in x.split():\n",
        "        if word not in d:\n",
        "            d[word] = 1\n",
        "        else:\n",
        "            d[word] += 1\n",
        "\n",
        "    return d"
      ],
      "execution_count": 13,
      "outputs": []
    },
    {
      "cell_type": "code",
      "metadata": {
        "id": "6OT7v4cwcwt4"
      },
      "source": [
        "T = TypeVar('T')\n",
        "\n",
        "import matplotlib.pyplot as plt\n",
        "\n",
        "def learnPredictor(trainExamples: List[Tuple[T, int]],\n",
        "                   validationExamples: List[Tuple[T, int]],\n",
        "                   featureExtractor: Callable[[T], FeatureVector],\n",
        "                   numEpochs: int, eta: float) -> WeightVector:\n",
        "   \n",
        "    weights = {}  # feature => weight\n",
        "\n",
        "    trainingLosses = []\n",
        "    validationLosses = []\n",
        "    for i in range(numEpochs):\n",
        "        for example in trainExamples:\n",
        "            \n",
        "            feature_value = featureExtractor(example[0]) #Gives dict of features\n",
        "            score = dotProduct(weights, feature_value)\n",
        "\n",
        "            gradient = {}\n",
        "            if 1 > (score * example[1]):\n",
        "                for key in feature_value:\n",
        "                    gradient[key] = -feature_value[key] * example[1]\n",
        "            else:\n",
        "                for key in feature_value:\n",
        "                    gradient[key] = 0\n",
        "\n",
        "            increment(weights, -eta, gradient)\n",
        "\n",
        "        def helperPredictor(x):\n",
        "            return dotProduct(weights, featureExtractor(x))\n",
        "\n",
        "        print(\"Training: \" + str(evaluatePredictor(trainExamples, helperPredictor)))\n",
        "        trainingLosses.append(evaluatePredictor(trainExamples, helperPredictor))\n",
        "        print(\"Validation: \" + str(evaluatePredictor(validationExamples, helperPredictor)))\n",
        "        validationLosses.append(evaluatePredictor(validationExamples, helperPredictor))\n",
        "\n",
        "    plt.plot(trainingLosses)\n",
        "    plt.title(\"Training Accuracy over Epochs\")\n",
        "    plt.plot(validationLosses)\n",
        "    plt.title(\"Validation Accuracy over Epochs\")\n",
        "    return weights"
      ],
      "execution_count": 14,
      "outputs": []
    },
    {
      "cell_type": "code",
      "metadata": {
        "id": "UPv6mH8jczIS"
      },
      "source": [
        "def extractCharacterFeatures(n: int) -> Callable[[str], FeatureVector]:\n",
        "  \n",
        "    def extract(x: str) -> Dict[str, int]:\n",
        "        \n",
        "        d = {}\n",
        "        i = 0\n",
        "        x = x.replace(\" \", \"\")\n",
        "        while i + n <= len(x):\n",
        "            subStr = x[i:i+n]\n",
        "            if subStr not in d:\n",
        "                d[subStr] = 1\n",
        "            else:\n",
        "                d[subStr] += 1\n",
        "\n",
        "            i += 1\n",
        "\n",
        "        return d\n",
        "        \n",
        "\n",
        "    return extract\n"
      ],
      "execution_count": 15,
      "outputs": []
    },
    {
      "cell_type": "code",
      "metadata": {
        "id": "8mRBpH4LdPXw"
      },
      "source": [
        "def testValuesOfN(n: int):\n",
        "   \n",
        "    trainExamples = readExamples('training_data.txt')\n",
        "    validationExamples = readExamples('testing_data.txt')\n",
        "    featureExtractor = extractCharacterFeatures(n)\n",
        "    weights = learnPredictor(trainExamples,\n",
        "                             validationExamples,\n",
        "                             featureExtractor,\n",
        "                             numEpochs=20,\n",
        "                             eta=0.01)\n",
        "    \n",
        "    outputWeights(weights, 'weights')\n",
        "    outputErrorAnalysis(validationExamples, featureExtractor, weights,\n",
        "                        'error-analysis')  # Use this to debug\n",
        "    trainError = evaluatePredictor(\n",
        "        trainExamples, lambda x:\n",
        "        (1 if dotProduct(featureExtractor(x), weights) >= 0 else -1))\n",
        "    validationError = evaluatePredictor(\n",
        "        validationExamples, lambda x:\n",
        "        (1 if dotProduct(featureExtractor(x), weights) >= 0 else -1))\n",
        "    print((\"Official: train error = %s, validation error = %s\" %\n",
        "           (trainError, validationError)))"
      ],
      "execution_count": 16,
      "outputs": []
    },
    {
      "cell_type": "code",
      "metadata": {
        "colab": {
          "base_uri": "https://localhost:8080/",
          "height": 1000
        },
        "id": "wR7JvQl1de_J",
        "outputId": "e0b0ee44-6a5d-48c4-cd15-9dbdeebba148"
      },
      "source": [
        "testValuesOfN(10)"
      ],
      "execution_count": 17,
      "outputs": [
        {
          "output_type": "stream",
          "text": [
            "Read 22304 examples from training_data.txt\n",
            "Read 1240 examples from testing_data.txt\n",
            "Training: 0.9998654949784792\n",
            "Validation: 1.0\n",
            "Training: 0.9997309899569584\n",
            "Validation: 1.0\n",
            "Training: 0.9999103299856528\n",
            "Validation: 1.0\n",
            "Training: 0.999775824964132\n",
            "Validation: 1.0\n",
            "Training: 0.999775824964132\n",
            "Validation: 1.0\n",
            "Training: 0.9998206599713056\n",
            "Validation: 1.0\n",
            "Training: 0.9998206599713056\n",
            "Validation: 1.0\n",
            "Training: 0.9996861549497847\n",
            "Validation: 1.0\n",
            "Training: 0.9996861549497847\n",
            "Validation: 0.9991935483870967\n",
            "Training: 0.999551649928264\n",
            "Validation: 1.0\n",
            "Training: 0.9995964849354376\n",
            "Validation: 1.0\n",
            "Training: 0.9995964849354376\n",
            "Validation: 1.0\n",
            "Training: 0.9995068149210904\n",
            "Validation: 1.0\n",
            "Training: 0.9993274748923959\n",
            "Validation: 1.0\n",
            "Training: 0.9992378048780488\n",
            "Validation: 1.0\n",
            "Training: 0.9991481348637016\n",
            "Validation: 1.0\n",
            "Training: 0.9991481348637016\n",
            "Validation: 1.0\n",
            "Training: 0.9991481348637016\n",
            "Validation: 1.0\n",
            "Training: 0.9991481348637016\n",
            "Validation: 1.0\n",
            "Training: 0.9991481348637016\n",
            "Validation: 1.0\n",
            "1177588 weights\n",
            "Official: train error = 0.0013450502152080345, validation error = 0.20887096774193548\n"
          ],
          "name": "stdout"
        },
        {
          "output_type": "display_data",
          "data": {
            "image/png": "[encoded data removed]",
            "text/plain": [
              "<Figure size 432x288 with 1 Axes>"
            ]
          },
          "metadata": {
            "tags": [],
            "needs_background": "light"
          }
        }
      ]
    },
    {
      "cell_type": "code",
      "metadata": {
        "id": "zyNIht0Hhaw6"
      },
      "source": [
        ""
      ],
      "execution_count": 17,
      "outputs": []
    }
  ]
}