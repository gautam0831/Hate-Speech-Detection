{
  "nbformat": 4,
  "nbformat_minor": 0,
  "metadata": {
    "colab": {
      "name": "Final Copy of LSTM_221Project.ipynb",
      "provenance": [],
      "collapsed_sections": []
    },
    "kernelspec": {
      "display_name": "Python 3",
      "name": "python3"
    },
    "language_info": {
      "name": "python"
    }
  },
  "cells": [
    {
      "cell_type": "code",
      "metadata": {
        "id": "vrPCFQJDVDhR"
      },
      "source": [
        "import matplotlib.pyplot as plt\n",
        "import numpy as np\n",
        "from sklearn import datasets\n",
        "from sklearn import svm\n",
        "import csv\n",
        "import pandas as pd"
      ],
      "execution_count": 88,
      "outputs": []
    },
    {
      "cell_type": "code",
      "metadata": {
        "colab": {
          "base_uri": "https://localhost:8080/",
          "height": 204
        },
        "id": "BIp7XYtJdFv6",
        "outputId": "73969b2b-ec02-48b8-b557-f968ae2dc831"
      },
      "source": [
        "data = pd.read_csv('labeled_data.csv', encoding = \"ISO-8859-1\", low_memory=False)\n",
        "data.head(5)"
      ],
      "execution_count": 89,
      "outputs": [
        {
          "output_type": "execute_result",
          "data": {
            "text/html": [
              "<div>\n",
              "<style scoped>\n",
              "    .dataframe tbody tr th:only-of-type {\n",
              "        vertical-align: middle;\n",
              "    }\n",
              "\n",
              "    .dataframe tbody tr th {\n",
              "        vertical-align: top;\n",
              "    }\n",
              "\n",
              "    .dataframe thead th {\n",
              "        text-align: right;\n",
              "    }\n",
              "</style>\n",
              "<table border=\"1\" class=\"dataframe\">\n",
              "  <thead>\n",
              "    <tr style=\"text-align: right;\">\n",
              "      <th></th>\n",
              "      <th>Unnamed: 0</th>\n",
              "      <th>count</th>\n",
              "      <th>hate_speech</th>\n",
              "      <th>offensive_language</th>\n",
              "      <th>neither</th>\n",
              "      <th>class</th>\n",
              "      <th>tweet</th>\n",
              "    </tr>\n",
              "  </thead>\n",
              "  <tbody>\n",
              "    <tr>\n",
              "      <th>0</th>\n",
              "      <td>0</td>\n",
              "      <td>3</td>\n",
              "      <td>0</td>\n",
              "      <td>0</td>\n",
              "      <td>3</td>\n",
              "      <td>2</td>\n",
              "      <td>!!! RT @mayasolovely: As a woman you shouldn't...</td>\n",
              "    </tr>\n",
              "    <tr>\n",
              "      <th>1</th>\n",
              "      <td>1</td>\n",
              "      <td>3</td>\n",
              "      <td>0</td>\n",
              "      <td>3</td>\n",
              "      <td>0</td>\n",
              "      <td>1</td>\n",
              "      <td>!!!!! RT @mleew17: boy dats cold...tyga dwn ba...</td>\n",
              "    </tr>\n",
              "    <tr>\n",
              "      <th>2</th>\n",
              "      <td>2</td>\n",
              "      <td>3</td>\n",
              "      <td>0</td>\n",
              "      <td>3</td>\n",
              "      <td>0</td>\n",
              "      <td>1</td>\n",
              "      <td>!!!!!!! RT @UrKindOfBrand Dawg!!!! RT @80sbaby...</td>\n",
              "    </tr>\n",
              "    <tr>\n",
              "      <th>3</th>\n",
              "      <td>3</td>\n",
              "      <td>3</td>\n",
              "      <td>0</td>\n",
              "      <td>2</td>\n",
              "      <td>1</td>\n",
              "      <td>1</td>\n",
              "      <td>!!!!!!!!! RT @C_G_Anderson: @viva_based she lo...</td>\n",
              "    </tr>\n",
              "    <tr>\n",
              "      <th>4</th>\n",
              "      <td>4</td>\n",
              "      <td>6</td>\n",
              "      <td>0</td>\n",
              "      <td>6</td>\n",
              "      <td>0</td>\n",
              "      <td>1</td>\n",
              "      <td>!!!!!!!!!!!!! RT @ShenikaRoberts: The shit you...</td>\n",
              "    </tr>\n",
              "  </tbody>\n",
              "</table>\n",
              "</div>"
            ],
            "text/plain": [
              "   Unnamed: 0  count  ...  class                                              tweet\n",
              "0           0      3  ...      2  !!! RT @mayasolovely: As a woman you shouldn't...\n",
              "1           1      3  ...      1  !!!!! RT @mleew17: boy dats cold...tyga dwn ba...\n",
              "2           2      3  ...      1  !!!!!!! RT @UrKindOfBrand Dawg!!!! RT @80sbaby...\n",
              "3           3      3  ...      1  !!!!!!!!! RT @C_G_Anderson: @viva_based she lo...\n",
              "4           4      6  ...      1  !!!!!!!!!!!!! RT @ShenikaRoberts: The shit you...\n",
              "\n",
              "[5 rows x 7 columns]"
            ]
          },
          "metadata": {
            "tags": []
          },
          "execution_count": 89
        }
      ]
    },
    {
      "cell_type": "code",
      "metadata": {
        "id": "xX9tEyY4VNeZ"
      },
      "source": [
        "\n",
        "\n",
        "#Make 90% of data for training\n",
        "#Original dataset said 0=Hate speech, 1=Offensive but not hate speech, 2=neither \n",
        "#We need binary labels so first we made +1 only if it is not hate speech (>0) but this made majority of the dataset +1 and very few -1. \n",
        "#So, changed labels so only classified as non-hate if orig label (>1)\n",
        "training = open(\"training_data.txt\", \"w+\")\n",
        "for i in range(int(0.9*data.shape[0])):\n",
        "  tweet = data[\"tweet\"][i].replace(\"\\n\", \" \")\n",
        "  label = data[\"class\"][i]\n",
        "  if label > 1:\n",
        "    label = \"1\"\n",
        "  else:\n",
        "    label = \"0\"\n",
        "  \n",
        "  training.write(label + \" \" + tweet + \"\\n\")\n",
        "\n",
        "training.close()\n",
        "\n",
        "validation = open(\"validation_data.txt\", \"w+\")\n",
        "for i in range(1239):\n",
        "  tweet = data[\"tweet\"][22304+i].replace(\"\\n\", \" \")\n",
        "\n",
        "  label = data[\"class\"][22304+i]\n",
        "  if label > 1:\n",
        "    label = \"1\"\n",
        "  else:\n",
        "    label = \"0\"\n",
        "  \n",
        "  validation.write(label + \" \" + tweet + \"\\n\")\n",
        "\n",
        "validation.close()\n",
        "\n",
        "testing = open(\"testing_data.txt\", \"w+\")\n",
        "for i in range(1240):\n",
        "  tweet = data[\"tweet\"][23543+i].replace(\"\\n\", \" \")\n",
        "\n",
        "  label = data[\"class\"][23543+i]\n",
        "  if label > 1:\n",
        "    label = \"1\"\n",
        "  else:\n",
        "    label = \"0\"\n",
        "  \n",
        "  testing.write(label + \" \" + tweet + \"\\n\")\n",
        "\n",
        "testing.close()\n",
        "\n"
      ],
      "execution_count": 90,
      "outputs": []
    },
    {
      "cell_type": "code",
      "metadata": {
        "colab": {
          "base_uri": "https://localhost:8080/"
        },
        "id": "wl94ejaCdKg7",
        "outputId": "2356cdd1-8452-4257-a86e-44a577103c50"
      },
      "source": [
        "import nltk.corpus\n",
        "nltk.download('stopwords')\n",
        "from string import punctuation\n",
        "\n",
        "training_tweets = []\n",
        "training_labels = []\n",
        "train = open(\"training_data.txt\", \"r\")\n",
        "train_lines = train.readlines()\n",
        "\n",
        "#Clean data\n",
        "train_lines = [line.strip() for line in train_lines]\n",
        "punc = '''!()-[]{};:'\"\\,<>./?@#$%^&*_~'''\n",
        "for line in train_lines:\n",
        "  tweet = line[2:]\n",
        " \n",
        "  # remove punctuation from each token\n",
        "  # table = str.maketrans('', '', punctuation)\n",
        "  # tweet = [w.translate(table) for w in tweet]\n",
        "  tweet = \"\".join([char for char in tweet if char not in punc])\n",
        " \n",
        "  # remove remaining tokens that are not alphabetic\n",
        "  tweet = \"\".join([word + \" \" for word in tweet.split() if word.isalpha()])\n",
        " \n",
        "  # filter out stop words\n",
        "  stop_words = set(stopwords.words('english'))\n",
        "  tweet = \"\".join([w+\" \" for w in tweet.split() if not w in stop_words])\n",
        "  training_tweets.append(tweet)\n",
        "  training_labels.append(int(line[:1]))\n",
        "\n",
        "#training_tweets = np.array(training_tweets)\n",
        "training_labels = np.array(training_labels)\n",
        "\n",
        "print(training_tweets[:5])\n",
        "print(training_labels[:5])"
      ],
      "execution_count": 91,
      "outputs": [
        {
          "output_type": "stream",
          "text": [
            "[nltk_data] Downloading package stopwords to /root/nltk_data...\n",
            "[nltk_data]   Package stopwords is already up-to-date!\n",
            "['RT mayasolovely As woman shouldnt complain cleaning house amp man always take trash ', 'RT boy dats coldtyga dwn bad cuffin dat hoe place ', 'RT UrKindOfBrand Dawg RT You ever fuck bitch start cry You confused shit ', 'RT CGAnderson vivabased look like tranny ', 'RT ShenikaRoberts The shit hear might true might faker bitch told ya ']\n",
            "[1 0 0 0 0]\n"
          ],
          "name": "stdout"
        }
      ]
    },
    {
      "cell_type": "code",
      "metadata": {
        "colab": {
          "base_uri": "https://localhost:8080/"
        },
        "id": "S-5vJGBQfP6C",
        "outputId": "8b84d158-fe14-4fc7-ebd3-530d8c653ae5"
      },
      "source": [
        "validation_tweets = []\n",
        "validation_labels = []\n",
        "validation = open(\"validation_data.txt\", \"r\")\n",
        "validation_lines = validation.readlines()\n",
        "validation_lines = [line.strip() for line in validation_lines]\n",
        "for line in validation_lines:\n",
        "  tweet = line[2:]\n",
        "  # remove punctuation from each token\n",
        "  tweet = \"\".join([char for char in tweet if char not in punc])\n",
        " \n",
        "  # remove remaining tokens that are not alphabetic\n",
        "  tweet = \"\".join([word + \" \" for word in tweet.split() if word.isalpha()])\n",
        " \n",
        "  # filter out stop words\n",
        "  stop_words = set(stopwords.words('english'))\n",
        "  tweet = \"\".join([w+\" \" for w in tweet.split() if not w in stop_words])\n",
        "  validation_tweets.append(tweet)\n",
        "  validation_labels.append(int(line[:1])) #First indexs of line is label\n",
        "\n",
        "#validation_tweets = np.array(validation_tweets)\n",
        "validation_labels = np.array(validation_labels)\n",
        "\n",
        "print(validation_tweets[:5])\n",
        "print(validation_labels[:5])"
      ],
      "execution_count": 92,
      "outputs": [
        {
          "output_type": "stream",
          "text": [
            "['Twitter trash ', 'Twitter let know every hoe every city country ', 'Twitter niggas always want unprotected sex nothing ass bitches NAH ', 'Twitter pic flossin hoes talkin PapaWoodall fatstinker ', 'Twitter watching bitches ']\n",
            "[1 0 0 0 0]\n"
          ],
          "name": "stdout"
        }
      ]
    },
    {
      "cell_type": "code",
      "metadata": {
        "colab": {
          "base_uri": "https://localhost:8080/"
        },
        "id": "jnepHrC6d2wp",
        "outputId": "c79c5d92-2ec2-451c-f04f-b52c356caa99"
      },
      "source": [
        "test_tweets = []\n",
        "test_labels = []\n",
        "test = open(\"testing_data.txt\", \"r\")\n",
        "test_lines = test.readlines()\n",
        "test_lines = [line.strip() for line in test_lines]\n",
        "for line in test_lines:\n",
        "  tweet = line[2:]\n",
        "  # remove punctuation from each token\n",
        "  tweet = \"\".join([char for char in tweet if char not in punc])\n",
        " \n",
        "  # remove remaining tokens that are not alphabetic\n",
        "  tweet = \"\".join([word + \" \" for word in tweet.split() if word.isalpha()])\n",
        " \n",
        "  # filter out stop words\n",
        "  stop_words = set(stopwords.words('english'))\n",
        "  tweet = \"\".join([w+\" \" for w in tweet.split() if not w in stop_words])\n",
        "  test_tweets.append(tweet)\n",
        "  test_labels.append(int(line[:1])) #First indexs of line is label\n",
        "\n",
        "#validation_tweets = np.array(validation_tweets)\n",
        "test_labels = np.array(test_labels)\n",
        "\n",
        "print(test_tweets[:5])\n",
        "print(test_labels[:5])"
      ],
      "execution_count": 93,
      "outputs": [
        {
          "output_type": "stream",
          "text": [
            "['aint bitch got shit ', 'aint nuttin ta cut bitch ', 'aint bitch Mimi still wit Gay ass Nikko ', 'aint trusting bitch nigga hoe sucka ', 'aint nuthin retarded bout Gucci gold rolex ']\n",
            "[0 0 0 0 0]\n"
          ],
          "name": "stdout"
        }
      ]
    },
    {
      "cell_type": "code",
      "metadata": {
        "id": "hOQORdL9Xgth"
      },
      "source": [
        "import time\n",
        "import tensorflow as tf\n",
        "from keras.datasets import imdb\n",
        "from keras.models import Sequential\n",
        "from keras.layers import Dense, Dropout\n",
        "from keras.layers import LSTM\n",
        "from keras.layers.embeddings import Embedding\n",
        "from keras.preprocessing import sequence\n",
        "from keras.optimizers import RMSprop\n",
        "from keras.layers.convolutional import Conv1D\n",
        "from keras.layers.convolutional import MaxPooling1D\n",
        "from keras.layers import Flatten\n",
        "#Random seed for reproducability\n",
        "\n",
        "np.random.seed(42)\n"
      ],
      "execution_count": 94,
      "outputs": []
    },
    {
      "cell_type": "code",
      "metadata": {
        "colab": {
          "base_uri": "https://localhost:8080/"
        },
        "id": "F7g092fnJV9Q",
        "outputId": "b1590b3e-27eb-4373-b0a4-764b20f9e1ac"
      },
      "source": [
        "max_tweet_length = max([len(tweet) for tweet in training_tweets])\n",
        "max_tweet_length2 = max([len(tweet) for tweet in validation_tweets])\n",
        "max_tweet_length = max(max_tweet_length, max_tweet_length2)\n",
        "print(max_tweet_length)"
      ],
      "execution_count": 95,
      "outputs": [
        {
          "output_type": "stream",
          "text": [
            "139\n"
          ],
          "name": "stdout"
        }
      ]
    },
    {
      "cell_type": "code",
      "metadata": {
        "colab": {
          "base_uri": "https://localhost:8080/"
        },
        "id": "f7yFrnMIMPha",
        "outputId": "73e23b55-4025-4965-e585-e94830ab4188"
      },
      "source": [
        "from keras.preprocessing.text import Tokenizer\n",
        "\n",
        "#Create a vocabulary of word counts\n",
        "word_counts = {}\n",
        "for tweet in training_tweets:\n",
        "  words = tweet.split()\n",
        "  for word in words:\n",
        "    if word not in word_counts:\n",
        "      word_counts[word] = 1\n",
        "    else:\n",
        "      word_counts[word] += 1\n",
        "  \n",
        "for tweet in validation_tweets:\n",
        "  words = tweet.split()\n",
        "  for word in words:\n",
        "    if word not in word_counts:\n",
        "      word_counts[word] = 1\n",
        "    else:\n",
        "      word_counts[word] += 1\n",
        "\n",
        "for tweet in test_tweets:\n",
        "  words = tweet.split()\n",
        "  for word in words:\n",
        "    if word not in word_counts:\n",
        "      word_counts[word] = 1\n",
        "    else:\n",
        "      word_counts[word] += 1\n",
        "# removes low occur tokens\n",
        "min_occur = 2\n",
        "vocab = [k for k,c in word_counts.items() if c >= min_occur]\n",
        "\n",
        "#print(len(vocab))\n",
        "\n",
        "# filter out tokens not in vocab\n",
        "cleaned_tweets = []\n",
        "for tweet in training_tweets:\n",
        "  words = tweet.split()\n",
        "  tokens = [w for w in words if w in vocab]\n",
        "  tokens = ' '.join(tokens)\n",
        "  cleaned_tweets.append(tokens)\n",
        "print(len(training_tweets))\n",
        "print(len(cleaned_tweets))\n",
        "cleaned_Val_tweets = []\n",
        "for tweet in validation_tweets:\n",
        "  words = tweet.split()\n",
        "  tokens = [w for w in words if w in vocab]\n",
        "  tokens = ' '.join(tokens)\n",
        "  cleaned_Val_tweets.append(tokens)\n",
        "\n",
        "cleaned_test_tweets = []\n",
        "for tweet in test_tweets:\n",
        "  words = tweet.split()\n",
        "  tokens = [w for w in words if w in vocab]\n",
        "  tokens = ' '.join(tokens)\n",
        "  cleaned_test_tweets.append(tokens)\n",
        "\n",
        "print(cleaned_tweets[:5])\n",
        "print(cleaned_Val_tweets[:5])\n",
        "print(cleaned_test_tweets[:5])\n",
        "# create the tokenizer\n",
        "tokenizer = Tokenizer()\n",
        "# fit the tokenizer on the documents\n",
        "tokenizer.fit_on_texts(cleaned_tweets)\n",
        " \n",
        "# sequence encode\n",
        "encoded_docs = tokenizer.texts_to_sequences(cleaned_tweets)\n",
        "encoded_docs_Val = tokenizer.texts_to_sequences(cleaned_Val_tweets)\n",
        "encoded_docs_test = tokenizer.texts_to_sequences(cleaned_test_tweets)\n"
      ],
      "execution_count": 96,
      "outputs": [
        {
          "output_type": "stream",
          "text": [
            "22304\n",
            "22304\n",
            "['RT As woman shouldnt complain cleaning house amp man always take trash', 'RT boy dats dwn bad cuffin dat hoe place', 'RT UrKindOfBrand Dawg RT You ever fuck bitch start cry You confused shit', 'RT vivabased look like tranny', 'RT The shit hear might true might faker bitch told ya']\n",
            "['Twitter trash', 'Twitter let know every hoe every city country', 'Twitter niggas always want unprotected sex nothing ass bitches NAH', 'Twitter pic hoes talkin PapaWoodall', 'Twitter watching bitches']\n",
            "['aint bitch got shit', 'aint nuttin ta cut bitch', 'aint bitch Mimi still wit Gay ass Nikko', 'aint trusting bitch nigga hoe sucka', 'aint nuthin retarded bout Gucci gold']\n"
          ],
          "name": "stdout"
        }
      ]
    },
    {
      "cell_type": "code",
      "metadata": {
        "colab": {
          "base_uri": "https://localhost:8080/"
        },
        "id": "ca1Fwm8Af2BW",
        "outputId": "6273abb7-2338-4714-ef9e-26f6bc2c6408"
      },
      "source": [
        "# pad sequences\n",
        "max_length = max([len(s.split()) for s in cleaned_tweets])\n",
        "Xtrain = sequence.pad_sequences(encoded_docs, maxlen=max_length)\n",
        "Ytrain = training_labels\n",
        "\n",
        "# sequence encode\n",
        "Xval = sequence.pad_sequences(encoded_docs_Val, maxlen=max_length)\n",
        "Yval = validation_labels\n",
        "\n",
        "Xtest = sequence.pad_sequences(encoded_docs_test, maxlen=max_length)\n",
        "Ytest = test_labels\n",
        "\n",
        "vocab_size = len(tokenizer.word_index) + 1\n",
        "#top_words = 10000\n",
        "\n",
        "print(Xtrain[0])\n",
        "print(Ytrain[0])\n",
        "print(vocab_size)"
      ],
      "execution_count": 97,
      "outputs": [
        {
          "output_type": "stream",
          "text": [
            "[   0    0    0    0    0    0    0    0    0    0    0    0    0    1\n",
            "  523  307  918 1042 3414  233   21   41   93   85   19]\n",
            "1\n",
            "10559\n"
          ],
          "name": "stdout"
        }
      ]
    },
    {
      "cell_type": "code",
      "metadata": {
        "colab": {
          "base_uri": "https://localhost:8080/",
          "height": 1000
        },
        "id": "1xBwKopINunZ",
        "outputId": "ee4bb608-24ad-40b1-d662-e688aa6e8815"
      },
      "source": [
        "model = Sequential()\n",
        "model.add(Embedding(vocab_size, 100, input_length=max_length))\n",
        "#model.add(Dropout(0.2))\n",
        "model.add(LSTM(100))\n",
        "#model.add(Dropout(0.2))\n",
        "model.add(Dense(1, activation='sigmoid'))\n",
        "model.compile(loss='binary_crossentropy', optimizer='adam', metrics=['accuracy'])\n",
        "print(model.summary())\n",
        "history = model.fit(Xtrain, Ytrain, validation_data=(Xval, Yval), epochs=6, batch_size=64)\n",
        "\n",
        "predictions = model.predict(Xval)\n",
        "i = 0\n",
        "for prediction in predictions:\n",
        "  prediction = predictions[i]\n",
        "  if prediction < 0.5:\n",
        "    prediction = 0\n",
        "  else:\n",
        "    prediction = 1\n",
        "  if prediction != Yval[i]:\n",
        "    print(cleaned_Val_tweets[i], prediction, Yval[i])\n",
        "  i += 1\n",
        "print(predictions[:10])\n",
        "\n",
        "plt.plot(history.history[\"loss\"])\n",
        "plt.plot(history.history[\"val_loss\"])\n",
        "plt.title(\"Model Loss over 6 Epochs\")\n",
        "plt.xlabel(\"Epoch\")\n",
        "plt.ylabel(\"Loss\")\n",
        "plt.ylim(0, 0.4)\n",
        "plt.legend([\"train\", \"validation\"])\n",
        "scores = model.evaluate(Xtest, Ytest, verbose=0)\n",
        "print(\"Test Data Accuracy: %.2f%%\" % (scores[1]*100))"
      ],
      "execution_count": 98,
      "outputs": [
        {
          "output_type": "stream",
          "text": [
            "Model: \"sequential_12\"\n",
            "_________________________________________________________________\n",
            "Layer (type)                 Output Shape              Param #   \n",
            "=================================================================\n",
            "embedding_12 (Embedding)     (None, 25, 100)           1055900   \n",
            "_________________________________________________________________\n",
            "lstm_9 (LSTM)                (None, 100)               80400     \n",
            "_________________________________________________________________\n",
            "dense_13 (Dense)             (None, 1)                 101       \n",
            "=================================================================\n",
            "Total params: 1,136,401\n",
            "Trainable params: 1,136,401\n",
            "Non-trainable params: 0\n",
            "_________________________________________________________________\n",
            "None\n",
            "Epoch 1/6\n",
            "349/349 [==============================] - 23s 59ms/step - loss: 0.3361 - accuracy: 0.8636 - val_loss: 0.1124 - val_accuracy: 0.9564\n",
            "Epoch 2/6\n",
            "349/349 [==============================] - 21s 59ms/step - loss: 0.0872 - accuracy: 0.9692 - val_loss: 0.1191 - val_accuracy: 0.9548\n",
            "Epoch 3/6\n",
            "349/349 [==============================] - 20s 59ms/step - loss: 0.0467 - accuracy: 0.9846 - val_loss: 0.1243 - val_accuracy: 0.9540\n",
            "Epoch 4/6\n",
            "349/349 [==============================] - 20s 57ms/step - loss: 0.0335 - accuracy: 0.9901 - val_loss: 0.1659 - val_accuracy: 0.9451\n",
            "Epoch 5/6\n",
            "349/349 [==============================] - 20s 57ms/step - loss: 0.0276 - accuracy: 0.9907 - val_loss: 0.1836 - val_accuracy: 0.9459\n",
            "Epoch 6/6\n",
            "349/349 [==============================] - 21s 59ms/step - loss: 0.0208 - accuracy: 0.9923 - val_loss: 0.1890 - val_accuracy: 0.9475\n",
            "Two years strong honkie 1 0\n",
            "U coons cant wait wear Oreo Js 1 0\n",
            "Up early bitch driving omg I move already 0 1\n",
            " 1 0\n",
            "Vice News interview Canadian Jihadi poem I translated u sound track 0 1\n",
            "ghetto aint bad 0 1\n",
            "Viola cant call White trash women White trash like HTGAWM 0 1\n",
            "zero LGBTQ persons Alabama Not lot either Think queer kids today 0 1\n",
            "WATCH Excited ISIS Jihadis Getting Their Yezidi Sex Slaves On Distribution Day tcot lnyhbt pjnet tgdn gop 1 0\n",
            "WE SALUTE THE VETS Tuesday Jihadi Bitch Slaying Fired At Taliban Cockroaches tcot pjnet 1 0\n",
            "Murica You say throat sole stomped 0 1\n",
            "Wait simple never basic 1 0\n",
            "Watching Steelers getting Steelers look like bunch bumblebees 0 1\n",
            "Watching Rich On wanted kick ghetto kids Shows yuh much Money Aint A 0 1\n",
            "We cant call somebody wack got RT Lin trash 0 1\n",
            "We trash 1 0\n",
            "Were good match cuz weed 1 0\n",
            "Weekend What amazing week Lets use extended weekend celebrate fellow queer folk 0 1\n",
            "Well good morning early birds mins thee clock Then breakfast shower rub one sleep 0 1\n",
            "nicca 1 0\n",
            "What I look like ho I look like YES look like NO NICKIMINAJ 1 0\n",
            "What order white Christian colored Arab Jews I know I 1 0\n",
            "What I talked ghetto lol Id annoyed self 0 1\n",
            "Whats trash party 0 1\n",
            "Whats worse jury duty get serving general public retarded 1 0\n",
            "When teacher says basic algebra I think basic 1 0\n",
            "Whenever I see pic Soft ghetto I log minutes 0 1\n",
            "Where would life without God Id probably living In trash 0 1\n",
            "Wheres 1 0\n",
            "White kids black kids yellow kids hell even purple kids carry like Daniel go far 0 1\n",
            "Who fuck still plays flappy bird Flappy bird feels like 1 0\n",
            "Who watches wrestling besides little kids white trash 1 0\n",
            "Why teabaggers interested saving people Muslim Does Syria oil morningjoe 1 0\n",
            "Why Drake like Serena Williams She looks like tranny 1 0\n",
            "Why Baltimore damn ghetto 1 0\n",
            "Why everytime I go cracker barrel girl great tits seats waitress nope chick teeth 1 0\n",
            "Why mother trash Its day leave alone stop nagging 0 1\n",
            "Why let hoes tear apart shud beware beware 1 0\n",
            "Wiz need go back bitch wiz 1 0\n",
            "Woke dis morning pockets filled pros might slide thru double O tonight n bless hoes Peezy 1 0\n",
            "Wont catch sneak dissing thats fo birds 0 1\n",
            "absolute worst paper life last week still got Gotta love taking freshman English retards 1 0\n",
            "Yea Mike referee Tokyo 1 0\n",
            "Yeah okay lets put fire cracker cow pie see happens 0 1\n",
            "Yes yes yes thats gone hear never met hoe yet tell 1 0\n",
            "Yes VonshayeB got recorded Been waiting months season 1 0\n",
            "brownie fukd high last night 1 0\n",
            "Yost biggest white trash county nation 1 0\n",
            "You NEED iPhone use stupid watch Apple grabbing people ankles shaking money rubes pockets 0 1\n",
            "You retarded really Kendrick trying diss rappers dont think cuz names said coming 0 1\n",
            "You jiggaboo 1 0\n",
            "You buy etc tho 1 0\n",
            "You ever seen fine bitchIm google looking 1 0\n",
            "You hoes love sayin You think cute huh You 1 0\n",
            "You know Im big NFL Im sick hearing Black yellow shit LOL bandwagon fans hell GO 0 1\n",
            "You know ghetto see streets named Martin King Jr amp halp 0 1\n",
            "You state gook 1 0\n",
            "You trash tho RT court NOW 1 0\n",
            "You wanna find hoes Just follow chicks reply heart eyes sex gifs 0 1\n",
            "Youre black Your name looks Hungarian You marry 0 1\n",
            "Your grammar trash 0 1\n",
            "Yup RT Egg nog trash rap 0 1\n",
            "get free says fake ho 1 0\n",
            "steelers lost superbowl loaded black yellow moms computer think youtube page still open 0 1\n",
            "pang HOW U LIKE ME NOW Shouts bro Dre Hogg Style fool dis 0 1\n",
            "[[7.3727322e-01]\n",
            " [2.3880005e-03]\n",
            " [3.9342463e-06]\n",
            " [4.7957897e-04]\n",
            " [1.3203328e-05]\n",
            " [1.1000503e-04]\n",
            " [9.9999785e-01]\n",
            " [3.1035179e-05]\n",
            " [9.6265348e-06]\n",
            " [3.2129884e-04]]\n",
            "Test Data Accuracy: 93.71%\n"
          ],
          "name": "stdout"
        },
        {
          "output_type": "display_data",
          "data": {
            "image/png": "[encoded data removed]",
            "text/plain": [
              "<Figure size 432x288 with 1 Axes>"
            ]
          },
          "metadata": {
            "tags": [],
            "needs_background": "light"
          }
        }
      ]
    },
    {
      "cell_type": "code",
      "metadata": {
        "colab": {
          "base_uri": "https://localhost:8080/"
        },
        "id": "lf5iWFMyfhhf",
        "outputId": "150b0aa9-015b-4c7d-a5f4-c328ad0b9fdc"
      },
      "source": [
        "print(scores)"
      ],
      "execution_count": 99,
      "outputs": [
        {
          "output_type": "stream",
          "text": [
            "[0.23294158279895782, 0.9370967745780945]\n"
          ],
          "name": "stdout"
        }
      ]
    },
    {
      "cell_type": "code",
      "metadata": {
        "id": "0ov4DKyuTlZr",
        "colab": {
          "base_uri": "https://localhost:8080/",
          "height": 1000
        },
        "outputId": "2334753e-82f9-4537-e7ca-f79c69a53abf"
      },
      "source": [
        "#cnn code\n",
        "model2 = Sequential()\n",
        "model2.add(Embedding(vocab_size, 100, input_length=max_length))\n",
        "model2.add(Conv1D(filters=128, kernel_size=5, activation='relu'))\n",
        "model2.add(MaxPooling1D(pool_size=2))\n",
        "model2.add(Flatten())\n",
        "model2.add(Dense(10, activation='relu'))\n",
        "model2.add(Dense(1, activation='sigmoid'))\n",
        "print(model2.summary())\n",
        "# compile network\n",
        "model2.compile(loss='binary_crossentropy', optimizer='adam', metrics=['accuracy'])\n",
        "# fit network\n",
        "history = model2.fit(Xtrain, Ytrain, validation_data=(Xval, Yval), epochs=6, batch_size=64, verbose=2)\n",
        "predictions = model2.predict(Xval)\n",
        "i = 0\n",
        "for prediction in predictions:\n",
        "  prediction = predictions[i]\n",
        "  if prediction < 0.5:\n",
        "    prediction = 0\n",
        "  else:\n",
        "    prediction = 1\n",
        "  if prediction != Yval[i]:\n",
        "    print(cleaned_Val_tweets[i], prediction, Yval[i])\n",
        "  i += 1\n",
        "print(predictions[:10])\n",
        "\n",
        "plt.plot(history.history[\"loss\"])\n",
        "plt.plot(history.history[\"val_loss\"])\n",
        "plt.title(\"Model Loss over 6 Epochs\")\n",
        "plt.xlabel(\"Epoch\")\n",
        "plt.ylabel(\"Loss\")\n",
        "plt.ylim(0, 0.4)\n",
        "plt.legend([\"train\", \"validation\"])\n",
        "# evaluate\n",
        "loss, acc = model2.evaluate(Xtest, Ytest, verbose=0)\n",
        "print('Test Data Accuracy: %f' % (acc*100))"
      ],
      "execution_count": 100,
      "outputs": [
        {
          "output_type": "stream",
          "text": [
            "Model: \"sequential_13\"\n",
            "_________________________________________________________________\n",
            "Layer (type)                 Output Shape              Param #   \n",
            "=================================================================\n",
            "embedding_13 (Embedding)     (None, 25, 100)           1055900   \n",
            "_________________________________________________________________\n",
            "conv1d_2 (Conv1D)            (None, 21, 128)           64128     \n",
            "_________________________________________________________________\n",
            "max_pooling1d_2 (MaxPooling1 (None, 10, 128)           0         \n",
            "_________________________________________________________________\n",
            "flatten_2 (Flatten)          (None, 1280)              0         \n",
            "_________________________________________________________________\n",
            "dense_14 (Dense)             (None, 10)                12810     \n",
            "_________________________________________________________________\n",
            "dense_15 (Dense)             (None, 1)                 11        \n",
            "=================================================================\n",
            "Total params: 1,132,849\n",
            "Trainable params: 1,132,849\n",
            "Non-trainable params: 0\n",
            "_________________________________________________________________\n",
            "None\n",
            "Epoch 1/6\n",
            "349/349 - 11s - loss: 0.2984 - accuracy: 0.8734 - val_loss: 0.1752 - val_accuracy: 0.9306\n",
            "Epoch 2/6\n",
            "349/349 - 10s - loss: 0.1522 - accuracy: 0.9412 - val_loss: 0.1752 - val_accuracy: 0.9330\n",
            "Epoch 3/6\n",
            "349/349 - 10s - loss: 0.0981 - accuracy: 0.9649 - val_loss: 0.2089 - val_accuracy: 0.9314\n",
            "Epoch 4/6\n",
            "349/349 - 10s - loss: 0.0617 - accuracy: 0.9790 - val_loss: 0.2390 - val_accuracy: 0.9282\n",
            "Epoch 5/6\n",
            "349/349 - 10s - loss: 0.0411 - accuracy: 0.9863 - val_loss: 0.2986 - val_accuracy: 0.9257\n",
            "Epoch 6/6\n",
            "349/349 - 10s - loss: 0.0305 - accuracy: 0.9901 - val_loss: 0.3252 - val_accuracy: 0.9225\n",
            "Twitter trash 0 1\n",
            "Two years strong honkie 1 0\n",
            "U coons cant wait wear Oreo Js 1 0\n",
            "Up early bitch driving omg I move already 0 1\n",
            "Up early damn birds still chirping smh 1 0\n",
            "VP Joe still wants guns Hey Joe breaking prick needs Hows feel honkey whippin boy 1 0\n",
            "Vice News interview Canadian Jihadi poem I translated u sound track 0 1\n",
            "ghetto aint bad 0 1\n",
            "Viola cant call White trash women White trash like HTGAWM 0 1\n",
            "zero LGBTQ persons Alabama Not lot either Think queer kids today 0 1\n",
            "WALK OFF HR Yankees 0 1\n",
            "WATCH Excited ISIS Jihadis Getting Their Yezidi Sex Slaves On Distribution Day tcot lnyhbt pjnet tgdn gop 1 0\n",
            "WE SALUTE THE VETS Tuesday Jihadi Bitch Slaying Fired At Taliban Cockroaches tcot pjnet 1 0\n",
            "WH Obama name rubes already ballots Hot Air 0 1\n",
            "WTF Imma legs Charlie Murphy 0 1\n",
            "Wait take brownies 0 1\n",
            "Waiting wetback 1 0\n",
            "Want cheese whine bitch 1 0\n",
            "Was kimball gym today boy kimball hoe wouldve stupid 1 0\n",
            "Watch ned 0 1\n",
            "Watching Steelers getting Steelers look like bunch bumblebees 0 1\n",
            "smiling da foe nigguh 1 0\n",
            "We cant call somebody wack got RT Lin trash 0 1\n",
            "We delivering bitch 1 0\n",
            "Were going make school look redneck tomorrow 0 1\n",
            "Weekend What amazing week Lets use extended weekend celebrate fellow queer folk 0 1\n",
            "Welcome land Check evil racist whitey sitting steps etc Woo 0 1\n",
            "Well RT HuhWhatsACondom Good job mommy cutest thing blue ivy ever done still ugly nigger 1 0\n",
            "Went open house today amp place trash Ewww 0 1\n",
            "What wetback looks like gets caught crossing border Ilovebamf 1 0\n",
            "What order white Christian colored Arab Jews I know I 1 0\n",
            "What black folk take kids riding ghetto point youth amp say 0 1\n",
            "What monkey 0 1\n",
            "Whats worse Ebola The retards trying make race issue Al Sharpton American death ebola 1 0\n",
            "Whats worse jury duty get serving general public retarded 1 0\n",
            "When else fails blast bare nips 0 1\n",
            "When Miley turn ghetto 0 1\n",
            "When become cool ne stupid This teabagger debate slim facts best 0 1\n",
            "When teacher says basic algebra I think basic 1 0\n",
            "When test today Im making pan brownies Im going lay bed day amp eat heart content 0 1\n",
            "When colored every day Sunday 0 1\n",
            "Whenever I see pic Soft ghetto I log minutes 0 1\n",
            "Where would life without God Id probably living In trash 0 1\n",
            "Wheres part Fat Amy goes err wop 0 1\n",
            "Which one Corey Cory Or Hes half 1 0\n",
            "Whipped 0 1\n",
            "Whipped french front babes post office winning 0 1\n",
            "White bus drivers white trash LosAngeles 1 0\n",
            "White kids black kids yellow kids hell even purple kids carry like Daniel go far 0 1\n",
            "White trash taken every charity organization US 1 0\n",
            "Who John Hanson A Black Man A Moor John Hanson First President United States George 0 1\n",
            "Who fuck still plays flappy bird Flappy bird feels like 1 0\n",
            "thought redneck husband would claim hipster glasses 0 1\n",
            "chill savage Here monkey monkey 0 1\n",
            "Why Jon hates birds 0 1\n",
            "Why teabaggers interested saving people Muslim Does Syria oil morningjoe 1 0\n",
            "Why release nudes cunt 1 0\n",
            "Why peeps gotta mad ghetto nowadays Smh pull pants 0 1\n",
            "Why bitch giant band aid looks like MIA designed american 1 0\n",
            "Why everytime I go cracker barrel girl great tits seats waitress nope chick teeth 1 0\n",
            "Why mother trash Its day leave alone stop nagging 0 1\n",
            "Why wont run ball Our offensive retarded 0 1\n",
            "Why would date ugly girl also huge bitch 1 0\n",
            "Oreo 0 1\n",
            "Wish I coulda said tonight Good seeing fag 1 0\n",
            "Wiz thought could turn hoe house wife 1 0\n",
            "Wont catch sneak dissing thats fo birds 0 1\n",
            "Word doe GM RT Good bitches 1 0\n",
            "Wow whiggers Tea Party Nation banned I didnt even use bad words Maybe racist father quotes 1 0\n",
            "YES RT NO RT Will YOU buy new Apple flavor Oreos 0 1\n",
            "Yay Im redneck piece shit 1 0\n",
            "Yeah okay lets put fire cracker cow pie see happens 0 1\n",
            "boy yung nicca told dat 0 1\n",
            "Yep sources confirmed That Iggy concert last night trash 0 1\n",
            "brownie fukd high last night 1 0\n",
            "You NEED iPhone use stupid watch Apple grabbing people ankles shaking money rubes pockets 0 1\n",
            "You hoe deals fried chicken 1 0\n",
            "You hoe take taxi club 1 0\n",
            "You always find something bitch 1 0\n",
            "You buy etc tho 1 0\n",
            "You hoes love sayin You think cute huh You 1 0\n",
            "You know Im big NFL Im sick hearing Black yellow shit LOL bandwagon fans hell GO 0 1\n",
            "You know ghetto see streets named Martin King Jr amp halp 0 1\n",
            "You losing thats u trying Stupid yardie 0 1\n",
            "You said smoking strong wrong smoking trash aint lungs aint pressure 0 1\n",
            "You trash tho RT court NOW 1 0\n",
            "You wanna find hoes Just follow chicks reply heart eyes sex gifs 0 1\n",
            "You want I got twenty bitch 1 0\n",
            "Youre black Your name looks Hungarian You marry 0 1\n",
            "Youre good twitpic selfie bad bitch 1 0\n",
            "Youre stuck ghetto middle school days Step g wtf ah I stuck middle school games bc 0 1\n",
            "Young amp Don Chief killing real bubble gum trash booth 1 0\n",
            "Your grammar trash 0 1\n",
            "Yup RT Egg nog trash rap 0 1\n",
            "add snapchat bitches 1 0\n",
            "pang HOW U LIKE ME NOW Shouts bro Dre Hogg Style fool dis 0 1\n",
            "[[1.7117888e-02]\n",
            " [5.4091215e-04]\n",
            " [5.2516325e-11]\n",
            " [1.7154217e-04]\n",
            " [2.1752846e-01]\n",
            " [1.7117888e-02]\n",
            " [1.0000000e+00]\n",
            " [1.8127899e-07]\n",
            " [1.6468055e-06]\n",
            " [2.6512146e-04]]\n",
            "Test Data Accuracy: 90.967745\n"
          ],
          "name": "stdout"
        },
        {
          "output_type": "display_data",
          "data": {
            "image/png": "[encoded data removed]",
            "text/plain": [
              "<Figure size 432x288 with 1 Axes>"
            ]
          },
          "metadata": {
            "tags": [],
            "needs_background": "light"
          }
        }
      ]
    }
  ]
}